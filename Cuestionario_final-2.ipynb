{
  "nbformat": 4,
  "nbformat_minor": 0,
  "metadata": {
    "colab": {
      "provenance": []
    },
    "kernelspec": {
      "name": "python3",
      "display_name": "Python 3"
    },
    "language_info": {
      "name": "python"
    }
  },
  "cells": [
    {
      "cell_type": "code",
      "source": [
        "import numpy as np\n",
        "from scipy.spatial.distance import pdist, squareform\n",
        "from sklearn.cluster import KMeans\n",
        "import matplotlib.pyplot as plt\n",
        "import yfinance as yf\n",
        "import numpy as np\n",
        "import pandas as pd"
      ],
      "metadata": {
        "id": "iyRc36_eQi3s"
      },
      "execution_count": 24,
      "outputs": []
    },
    {
      "cell_type": "markdown",
      "source": [
        "# Ejercicio 5"
      ],
      "metadata": {
        "id": "A_WqaMA6zBQl"
      }
    },
    {
      "cell_type": "code",
      "execution_count": null,
      "metadata": {
        "colab": {
          "base_uri": "https://localhost:8080/"
        },
        "id": "Kr3UdXm4QUzY",
        "outputId": "baed091a-8c08-4d93-f479-1cfe64740dea"
      },
      "outputs": [
        {
          "output_type": "execute_result",
          "data": {
            "text/plain": [
              "array([[ 0,  0],\n",
              "       [ 0,  1],\n",
              "       [-1,  2],\n",
              "       [ 2,  0],\n",
              "       [ 3,  0],\n",
              "       [ 4, -1]])"
            ]
          },
          "metadata": {},
          "execution_count": 8
        }
      ],
      "source": [
        "X = np.array([[0,0],[0,1],[-1,2],[2,0],[3,0],[4,-1]])\n",
        "X"
      ]
    },
    {
      "cell_type": "code",
      "source": [
        "# Calcular la matriz de disimilaridades usando la distancia euclidiana\n",
        "dissimilarity_matrix = squareform(pdist(X, metric='euclidean'))\n",
        "\n",
        "print(dissimilarity_matrix)"
      ],
      "metadata": {
        "colab": {
          "base_uri": "https://localhost:8080/"
        },
        "id": "TdaA7g60Qj8W",
        "outputId": "6ffaf052-0c42-42a6-b900-53e61863ceed"
      },
      "execution_count": null,
      "outputs": [
        {
          "output_type": "stream",
          "name": "stdout",
          "text": [
            "[[0.         1.         2.23606798 2.         3.         4.12310563]\n",
            " [1.         0.         1.41421356 2.23606798 3.16227766 4.47213595]\n",
            " [2.23606798 1.41421356 0.         3.60555128 4.47213595 5.83095189]\n",
            " [2.         2.23606798 3.60555128 0.         1.         2.23606798]\n",
            " [3.         3.16227766 4.47213595 1.         0.         1.41421356]\n",
            " [4.12310563 4.47213595 5.83095189 2.23606798 1.41421356 0.        ]]\n"
          ]
        }
      ]
    },
    {
      "cell_type": "code",
      "source": [
        "# Definir los centroides iniciales\n",
        "initial_centroids = np.array([X[0],X[5]])"
      ],
      "metadata": {
        "id": "_bn3X9c0Qknf"
      },
      "execution_count": null,
      "outputs": []
    },
    {
      "cell_type": "code",
      "source": [
        "# Inicializar KMeans con los centroides iniciales\n",
        "kmeans = KMeans(n_clusters=2, init=initial_centroids, n_init=1, max_iter=300, random_state=42)\n",
        "\n",
        "# Ajustar el modelo a los datos\n",
        "kmeans.fit(X)\n",
        "\n",
        "# Obtener los centroides finales y las etiquetas de los puntos\n",
        "final_centroids = kmeans.cluster_centers_\n",
        "labels = kmeans.labels_\n",
        "\n",
        "print(\"Centroides finales:\")\n",
        "print(final_centroids)\n",
        "print(\"Etiquetas de los puntos:\")\n",
        "print(labels)\n"
      ],
      "metadata": {
        "colab": {
          "base_uri": "https://localhost:8080/"
        },
        "id": "1fHetoBsSSc4",
        "outputId": "15a46160-2527-4ce5-ea5c-bc895565c885"
      },
      "execution_count": null,
      "outputs": [
        {
          "output_type": "stream",
          "name": "stdout",
          "text": [
            "Centroides finales:\n",
            "[[-0.33333333  1.        ]\n",
            " [ 3.         -0.33333333]]\n",
            "Etiquetas de los puntos:\n",
            "[0 0 0 1 1 1]\n"
          ]
        }
      ]
    },
    {
      "cell_type": "code",
      "source": [
        "punto = [1,1]\n",
        "dist1 = np.linalg.norm(punto-final_centroids[0])\n",
        "dist2 = np.linalg.norm(punto-final_centroids[1])\n",
        "\n",
        "if dist1 < dist2:\n",
        "    print(f\"{punto} pertenece al grupo 1\")\n",
        "else:\n",
        "    print(f\"{punto} pertenece al grupo 2\")"
      ],
      "metadata": {
        "colab": {
          "base_uri": "https://localhost:8080/"
        },
        "id": "fXvq5CKsSYU3",
        "outputId": "73284f25-1e20-4b69-cdf5-da96922efcc3"
      },
      "execution_count": null,
      "outputs": [
        {
          "output_type": "stream",
          "name": "stdout",
          "text": [
            "[1, 1] pertenece al grupo 1\n"
          ]
        }
      ]
    },
    {
      "cell_type": "code",
      "source": [],
      "metadata": {
        "id": "7GDC5TMNWmwX"
      },
      "execution_count": null,
      "outputs": []
    },
    {
      "cell_type": "markdown",
      "source": [
        "# Ejercicio 8"
      ],
      "metadata": {
        "id": "_Hcof3vIA1Ap"
      }
    },
    {
      "cell_type": "code",
      "source": [
        "# Definir la matriz de datos\n",
        "X = np.array([[1,3],[0,4],[6,2],[5,2],[1,6]])\n",
        "\n",
        "# Definir las etiquetas iniciales de los clusters\n",
        "initial_labels = np.array([1,0,1,1,0])"
      ],
      "metadata": {
        "id": "e8yPHUirA3O-"
      },
      "execution_count": 18,
      "outputs": []
    },
    {
      "cell_type": "code",
      "source": [
        "np.zeros((2, X.shape[1]))"
      ],
      "metadata": {
        "colab": {
          "base_uri": "https://localhost:8080/"
        },
        "id": "EiN77R0XCQFV",
        "outputId": "c9891288-258d-4708-c1bb-83cee79880bd"
      },
      "execution_count": 23,
      "outputs": [
        {
          "output_type": "execute_result",
          "data": {
            "text/plain": [
              "array([[0., 0.],\n",
              "       [0., 0.]])"
            ]
          },
          "metadata": {},
          "execution_count": 23
        }
      ]
    },
    {
      "cell_type": "code",
      "source": [
        "# Calcular los centroides iniciales\n",
        "def calculate_initial_centroids(data, labels, n_clusters):\n",
        "    centroids = np.zeros((n_clusters, data.shape[1]))\n",
        "    for k in range(n_clusters):\n",
        "        centroids[k] = data[labels == k].mean(axis=0)\n",
        "    return centroids\n",
        "\n",
        "# Número de clusters\n",
        "n_clusters = 2\n",
        "\n",
        "# Calcular los centroides iniciales\n",
        "initial_centroids = calculate_initial_centroids(X, initial_labels, n_clusters)\n",
        "initial_centroids"
      ],
      "metadata": {
        "colab": {
          "base_uri": "https://localhost:8080/"
        },
        "id": "ycPqQnx4BmcC",
        "outputId": "43d62166-f813-4de5-bd3b-faebf9463746"
      },
      "execution_count": 21,
      "outputs": [
        {
          "output_type": "execute_result",
          "data": {
            "text/plain": [
              "array([[0.5       , 5.        ],\n",
              "       [4.        , 2.33333333]])"
            ]
          },
          "metadata": {},
          "execution_count": 21
        }
      ]
    },
    {
      "cell_type": "code",
      "source": [
        "# Inicializar KMeans con los centroides iniciales\n",
        "kmeans = KMeans(n_clusters=n_clusters, init=initial_centroids, n_init=1, max_iter=300, random_state=42)\n",
        "\n",
        "# Ajustar el modelo a los datos\n",
        "kmeans.fit(X)\n",
        "\n",
        "# Obtener los centroides finales y las etiquetas de los puntos\n",
        "final_centroids = kmeans.cluster_centers_\n",
        "labels = kmeans.labels_\n",
        "\n",
        "print(\"Centroides finales:\")\n",
        "print(final_centroids)\n",
        "print(\"Etiquetas de los puntos:\")\n",
        "print(labels)\n"
      ],
      "metadata": {
        "colab": {
          "base_uri": "https://localhost:8080/"
        },
        "id": "NgRdPnPtCCNW",
        "outputId": "f9627ef7-e07e-4c15-9fd3-15d605af1dfb"
      },
      "execution_count": 22,
      "outputs": [
        {
          "output_type": "stream",
          "name": "stdout",
          "text": [
            "Centroides finales:\n",
            "[[0.66666667 4.33333333]\n",
            " [5.5        2.        ]]\n",
            "Etiquetas de los puntos:\n",
            "[0 0 1 1 0]\n"
          ]
        }
      ]
    },
    {
      "cell_type": "markdown",
      "source": [
        "# Ejercicio 9"
      ],
      "metadata": {
        "id": "iulRnAEqzDwa"
      }
    },
    {
      "cell_type": "code",
      "execution_count": 7,
      "metadata": {
        "colab": {
          "base_uri": "https://localhost:8080/",
          "height": 430
        },
        "outputId": "3dadc538-a653-4a46-f94d-0ffad614f2a2",
        "id": "PLx-KUKXzK8w"
      },
      "outputs": [
        {
          "output_type": "display_data",
          "data": {
            "text/plain": [
              "<Figure size 640x480 with 1 Axes>"
            ],
            "image/png": "[encoded data removed]"
          },
          "metadata": {}
        }
      ],
      "source": [
        "X = np.array([[2,10],[2,5],[8,4],[5,8],[7,5],[6,4],[1,2],[4,9]])\n",
        "plt.scatter(X[:,0],X[:,1])\n",
        "plt.grid()\n",
        "plt.show()"
      ]
    },
    {
      "cell_type": "code",
      "source": [
        "# Calcular la matriz de disimilaridades usando la distancia euclidiana\n",
        "dissimilarity_matrix = squareform(pdist(X, metric='euclidean'))\n",
        "\n",
        "print(dissimilarity_matrix)"
      ],
      "metadata": {
        "colab": {
          "base_uri": "https://localhost:8080/"
        },
        "outputId": "eca8b617-eba2-47d7-bef7-b89b5d2ba37e",
        "id": "hdB-yds1zK8y"
      },
      "execution_count": 8,
      "outputs": [
        {
          "output_type": "stream",
          "name": "stdout",
          "text": [
            "[[0.         5.         8.48528137 3.60555128 7.07106781 7.21110255\n",
            "  8.06225775 2.23606798]\n",
            " [5.         0.         6.08276253 4.24264069 5.         4.12310563\n",
            "  3.16227766 4.47213595]\n",
            " [8.48528137 6.08276253 0.         5.         1.41421356 2.\n",
            "  7.28010989 6.40312424]\n",
            " [3.60555128 4.24264069 5.         0.         3.60555128 4.12310563\n",
            "  7.21110255 1.41421356]\n",
            " [7.07106781 5.         1.41421356 3.60555128 0.         1.41421356\n",
            "  6.70820393 5.        ]\n",
            " [7.21110255 4.12310563 2.         4.12310563 1.41421356 0.\n",
            "  5.38516481 5.38516481]\n",
            " [8.06225775 3.16227766 7.28010989 7.21110255 6.70820393 5.38516481\n",
            "  0.         7.61577311]\n",
            " [2.23606798 4.47213595 6.40312424 1.41421356 5.         5.38516481\n",
            "  7.61577311 0.        ]]\n"
          ]
        }
      ]
    },
    {
      "cell_type": "code",
      "source": [
        "# Inicializar KMeans con los centroides iniciales\n",
        "kmeans = KMeans(n_clusters=3, init='k-means++', n_init=1, max_iter=300, random_state=42)\n",
        "\n",
        "# Ajustar el modelo a los datos\n",
        "kmeans.fit(X)\n",
        "\n",
        "# Obtener los centroides finales y las etiquetas de los puntos\n",
        "final_centroids = kmeans.cluster_centers_\n",
        "labels = kmeans.labels_\n",
        "\n",
        "print(\"Centroides finales:\")\n",
        "print(final_centroids)\n",
        "print(\"Etiquetas de los puntos:\")\n",
        "print(labels)\n"
      ],
      "metadata": {
        "colab": {
          "base_uri": "https://localhost:8080/"
        },
        "outputId": "db768960-c6df-4bdf-f24c-154a5c1f8fb0",
        "id": "scxtuEQEzK80"
      },
      "execution_count": 10,
      "outputs": [
        {
          "output_type": "stream",
          "name": "stdout",
          "text": [
            "Centroides finales:\n",
            "[[1.5        3.5       ]\n",
            " [7.         4.33333333]\n",
            " [3.66666667 9.        ]]\n",
            "Etiquetas de los puntos:\n",
            "[2 0 1 2 1 1 0 2]\n"
          ]
        }
      ]
    },
    {
      "cell_type": "markdown",
      "source": [
        "# Ejercicio 10"
      ],
      "metadata": {
        "id": "vi_to1F8HWbR"
      }
    },
    {
      "cell_type": "code",
      "source": [
        "# Paso 1: Descargar los datos de Yahoo Finance\n",
        "tickers = ['AAPL', 'MSFT', 'GOOGL', 'AMZN', 'NVDA', 'TSLA', 'BRK-B', 'JNJ', 'V', 'WMT',\n",
        "           'BIMBOA.MX', 'CEMEXCPO.MX', 'GMEXICOB.MX', 'TLEVISACPO.MX', 'KIMBERA.MX',\n",
        "           'FEMSAUBD.MX', 'ALSEA.MX', 'PE&OLES.MX', 'GFNORTEO.MX', 'LIVEPOLC-1.MX']\n",
        "\n",
        "data = yf.download(tickers, start='2018-01-01', end='2024-01-01')['Adj Close']"
      ],
      "metadata": {
        "colab": {
          "base_uri": "https://localhost:8080/"
        },
        "id": "BGe9ItFYHYRH",
        "outputId": "c58dbf85-8547-48c5-e8da-e34ad7dfce58"
      },
      "execution_count": 25,
      "outputs": [
        {
          "output_type": "stream",
          "name": "stderr",
          "text": [
            "[*********************100%%**********************]  20 of 20 completed\n"
          ]
        }
      ]
    },
    {
      "cell_type": "code",
      "source": [
        "# Paso 2: Calcular movimientos finales y rendimientos\n",
        "movimientos_finales = data.apply(lambda x: x.max() - x.min())\n",
        "rendimientos = data.pct_change().mean() * 252  # anualizar los rendimientos diarios"
      ],
      "metadata": {
        "id": "2aviW_7xHxd3"
      },
      "execution_count": 26,
      "outputs": []
    },
    {
      "cell_type": "code",
      "source": [
        "# Verificar si hay datos faltantes\n",
        "print(f\"Datos faltantes en movimientos finales:\\n{movimientos_finales.isnull().sum()}\")\n",
        "print(f\"Datos faltantes en rendimientos:\\n{rendimientos.isnull().sum()}\")"
      ],
      "metadata": {
        "colab": {
          "base_uri": "https://localhost:8080/"
        },
        "id": "6aJyMKwsICNy",
        "outputId": "b5365958-331d-4ff1-ea9a-61072983780a"
      },
      "execution_count": 27,
      "outputs": [
        {
          "output_type": "stream",
          "name": "stdout",
          "text": [
            "Datos faltantes en movimientos finales:\n",
            "0\n",
            "Datos faltantes en rendimientos:\n",
            "0\n"
          ]
        }
      ]
    },
    {
      "cell_type": "code",
      "source": [
        "# Paso 3: Crear DataFrame para el análisis de clúster\n",
        "X = pd.DataFrame({'Movimientos Finales': movimientos_finales, 'Rendimientos': rendimientos})\n",
        "X = X.dropna()  # Eliminar valores nulos\n",
        "X"
      ],
      "metadata": {
        "colab": {
          "base_uri": "https://localhost:8080/",
          "height": 700
        },
        "id": "qpJx9bq4IK6q",
        "outputId": "84386ef6-25a8-47ec-c5dc-47f92f596693"
      },
      "execution_count": 29,
      "outputs": [
        {
          "output_type": "execute_result",
          "data": {
            "text/plain": [
              "               Movimientos Finales  Rendimientos\n",
              "Ticker                                          \n",
              "AAPL                    163.560280      0.301509\n",
              "ALSEA.MX                 55.592428      0.069857\n",
              "AMZN                    127.119995      0.213405\n",
              "BIMBOA.MX                72.001814      0.174854\n",
              "BRK-B                   208.350006      0.119742\n",
              "CEMEXCPO.MX              13.429999      0.058931\n",
              "FEMSAUBD.MX             112.488464      0.071421\n",
              "GFNORTEO.MX             127.158035      0.190989\n",
              "GMEXICOB.MX              79.339310      0.178164\n",
              "GOOGL                   100.605000      0.203079\n",
              "JNJ                      75.407791      0.065541\n",
              "KIMBERA.MX               17.774832      0.096980\n",
              "LIVEPOLC-1.MX            87.730934      0.043765\n",
              "MSFT                    302.243355      0.295411\n",
              "NVDA                    472.500286      0.503506\n",
              "PE&OLES.MX              270.050034      0.019000\n",
              "TLEVISACPO.MX            67.918924     -0.212091\n",
              "TSLA                    398.038669      0.596429\n",
              "V                       152.498680      0.177168\n",
              "WMT                      31.175812      0.118097"
            ],
            "text/html": [
              "\n",
              "  <div id=\"df-2f2d3b2f-6969-4440-99a0-9044dbbdfb01\" class=\"colab-df-container\">\n",
              "    <div>\n",
              "<style scoped>\n",
              "    .dataframe tbody tr th:only-of-type {\n",
              "        vertical-align: middle;\n",
              "    }\n",
              "\n",
              "    .dataframe tbody tr th {\n",
              "        vertical-align: top;\n",
              "    }\n",
              "\n",
              "    .dataframe thead th {\n",
              "        text-align: right;\n",
              "    }\n",
              "</style>\n",
              "<table border=\"1\" class=\"dataframe\">\n",
              "  <thead>\n",
              "    <tr style=\"text-align: right;\">\n",
              "      <th></th>\n",
              "      <th>Movimientos Finales</th>\n",
              "      <th>Rendimientos</th>\n",
              "    </tr>\n",
              "    <tr>\n",
              "      <th>Ticker</th>\n",
              "      <th></th>\n",
              "      <th></th>\n",
              "    </tr>\n",
              "  </thead>\n",
              "  <tbody>\n",
              "    <tr>\n",
              "      <th>AAPL</th>\n",
              "      <td>163.560280</td>\n",
              "      <td>0.301509</td>\n",
              "    </tr>\n",
              "    <tr>\n",
              "      <th>ALSEA.MX</th>\n",
              "      <td>55.592428</td>\n",
              "      <td>0.069857</td>\n",
              "    </tr>\n",
              "    <tr>\n",
              "      <th>AMZN</th>\n",
              "      <td>127.119995</td>\n",
              "      <td>0.213405</td>\n",
              "    </tr>\n",
              "    <tr>\n",
              "      <th>BIMBOA.MX</th>\n",
              "      <td>72.001814</td>\n",
              "      <td>0.174854</td>\n",
              "    </tr>\n",
              "    <tr>\n",
              "      <th>BRK-B</th>\n",
              "      <td>208.350006</td>\n",
              "      <td>0.119742</td>\n",
              "    </tr>\n",
              "    <tr>\n",
              "      <th>CEMEXCPO.MX</th>\n",
              "      <td>13.429999</td>\n",
              "      <td>0.058931</td>\n",
              "    </tr>\n",
              "    <tr>\n",
              "      <th>FEMSAUBD.MX</th>\n",
              "      <td>112.488464</td>\n",
              "      <td>0.071421</td>\n",
              "    </tr>\n",
              "    <tr>\n",
              "      <th>GFNORTEO.MX</th>\n",
              "      <td>127.158035</td>\n",
              "      <td>0.190989</td>\n",
              "    </tr>\n",
              "    <tr>\n",
              "      <th>GMEXICOB.MX</th>\n",
              "      <td>79.339310</td>\n",
              "      <td>0.178164</td>\n",
              "    </tr>\n",
              "    <tr>\n",
              "      <th>GOOGL</th>\n",
              "      <td>100.605000</td>\n",
              "      <td>0.203079</td>\n",
              "    </tr>\n",
              "    <tr>\n",
              "      <th>JNJ</th>\n",
              "      <td>75.407791</td>\n",
              "      <td>0.065541</td>\n",
              "    </tr>\n",
              "    <tr>\n",
              "      <th>KIMBERA.MX</th>\n",
              "      <td>17.774832</td>\n",
              "      <td>0.096980</td>\n",
              "    </tr>\n",
              "    <tr>\n",
              "      <th>LIVEPOLC-1.MX</th>\n",
              "      <td>87.730934</td>\n",
              "      <td>0.043765</td>\n",
              "    </tr>\n",
              "    <tr>\n",
              "      <th>MSFT</th>\n",
              "      <td>302.243355</td>\n",
              "      <td>0.295411</td>\n",
              "    </tr>\n",
              "    <tr>\n",
              "      <th>NVDA</th>\n",
              "      <td>472.500286</td>\n",
              "      <td>0.503506</td>\n",
              "    </tr>\n",
              "    <tr>\n",
              "      <th>PE&amp;OLES.MX</th>\n",
              "      <td>270.050034</td>\n",
              "      <td>0.019000</td>\n",
              "    </tr>\n",
              "    <tr>\n",
              "      <th>TLEVISACPO.MX</th>\n",
              "      <td>67.918924</td>\n",
              "      <td>-0.212091</td>\n",
              "    </tr>\n",
              "    <tr>\n",
              "      <th>TSLA</th>\n",
              "      <td>398.038669</td>\n",
              "      <td>0.596429</td>\n",
              "    </tr>\n",
              "    <tr>\n",
              "      <th>V</th>\n",
              "      <td>152.498680</td>\n",
              "      <td>0.177168</td>\n",
              "    </tr>\n",
              "    <tr>\n",
              "      <th>WMT</th>\n",
              "      <td>31.175812</td>\n",
              "      <td>0.118097</td>\n",
              "    </tr>\n",
              "  </tbody>\n",
              "</table>\n",
              "</div>\n",
              "    <div class=\"colab-df-buttons\">\n",
              "\n",
              "  <div class=\"colab-df-container\">\n",
              "    <button class=\"colab-df-convert\" onclick=\"convertToInteractive('df-2f2d3b2f-6969-4440-99a0-9044dbbdfb01')\"\n",
              "            title=\"Convert this dataframe to an interactive table.\"\n",
              "            style=\"display:none;\">\n",
              "\n",
              "  <svg xmlns=\"http://www.w3.org/2000/svg\" height=\"24px\" viewBox=\"0 -960 960 960\">\n",
              "    <path d=\"M120-120v-720h720v720H120Zm60-500h600v-160H180v160Zm220 220h160v-160H400v160Zm0 220h160v-160H400v160ZM180-400h160v-160H180v160Zm440 0h160v-160H620v160ZM180-180h160v-160H180v160Zm440 0h160v-160H620v160Z\"/>\n",
              "  </svg>\n",
              "    </button>\n",
              "\n",
              "  <style>\n",
              "    .colab-df-container {\n",
              "      display:flex;\n",
              "      gap: 12px;\n",
              "    }\n",
              "\n",
              "    .colab-df-convert {\n",
              "      background-color: #E8F0FE;\n",
              "      border: none;\n",
              "      border-radius: 50%;\n",
              "      cursor: pointer;\n",
              "      display: none;\n",
              "      fill: #1967D2;\n",
              "      height: 32px;\n",
              "      padding: 0 0 0 0;\n",
              "      width: 32px;\n",
              "    }\n",
              "\n",
              "    .colab-df-convert:hover {\n",
              "      background-color: #E2EBFA;\n",
              "      box-shadow: 0px 1px 2px rgba(60, 64, 67, 0.3), 0px 1px 3px 1px rgba(60, 64, 67, 0.15);\n",
              "      fill: #174EA6;\n",
              "    }\n",
              "\n",
              "    .colab-df-buttons div {\n",
              "      margin-bottom: 4px;\n",
              "    }\n",
              "\n",
              "    [theme=dark] .colab-df-convert {\n",
              "      background-color: #3B4455;\n",
              "      fill: #D2E3FC;\n",
              "    }\n",
              "\n",
              "    [theme=dark] .colab-df-convert:hover {\n",
              "      background-color: #434B5C;\n",
              "      box-shadow: 0px 1px 3px 1px rgba(0, 0, 0, 0.15);\n",
              "      filter: drop-shadow(0px 1px 2px rgba(0, 0, 0, 0.3));\n",
              "      fill: #FFFFFF;\n",
              "    }\n",
              "  </style>\n",
              "\n",
              "    <script>\n",
              "      const buttonEl =\n",
              "        document.querySelector('#df-2f2d3b2f-6969-4440-99a0-9044dbbdfb01 button.colab-df-convert');\n",
              "      buttonEl.style.display =\n",
              "        google.colab.kernel.accessAllowed ? 'block' : 'none';\n",
              "\n",
              "      async function convertToInteractive(key) {\n",
              "        const element = document.querySelector('#df-2f2d3b2f-6969-4440-99a0-9044dbbdfb01');\n",
              "        const dataTable =\n",
              "          await google.colab.kernel.invokeFunction('convertToInteractive',\n",
              "                                                    [key], {});\n",
              "        if (!dataTable) return;\n",
              "\n",
              "        const docLinkHtml = 'Like what you see? Visit the ' +\n",
              "          '<a target=\"_blank\" href=https://colab.research.google.com/notebooks/data_table.ipynb>data table notebook</a>'\n",
              "          + ' to learn more about interactive tables.';\n",
              "        element.innerHTML = '';\n",
              "        dataTable['output_type'] = 'display_data';\n",
              "        await google.colab.output.renderOutput(dataTable, element);\n",
              "        const docLink = document.createElement('div');\n",
              "        docLink.innerHTML = docLinkHtml;\n",
              "        element.appendChild(docLink);\n",
              "      }\n",
              "    </script>\n",
              "  </div>\n",
              "\n",
              "\n",
              "<div id=\"df-1ff6aa52-4d02-499a-93f8-72b9e7579caa\">\n",
              "  <button class=\"colab-df-quickchart\" onclick=\"quickchart('df-1ff6aa52-4d02-499a-93f8-72b9e7579caa')\"\n",
              "            title=\"Suggest charts\"\n",
              "            style=\"display:none;\">\n",
              "\n",
              "<svg xmlns=\"http://www.w3.org/2000/svg\" height=\"24px\"viewBox=\"0 0 24 24\"\n",
              "     width=\"24px\">\n",
              "    <g>\n",
              "        <path d=\"M19 3H5c-1.1 0-2 .9-2 2v14c0 1.1.9 2 2 2h14c1.1 0 2-.9 2-2V5c0-1.1-.9-2-2-2zM9 17H7v-7h2v7zm4 0h-2V7h2v10zm4 0h-2v-4h2v4z\"/>\n",
              "    </g>\n",
              "</svg>\n",
              "  </button>\n",
              "\n",
              "<style>\n",
              "  .colab-df-quickchart {\n",
              "      --bg-color: #E8F0FE;\n",
              "      --fill-color: #1967D2;\n",
              "      --hover-bg-color: #E2EBFA;\n",
              "      --hover-fill-color: #174EA6;\n",
              "      --disabled-fill-color: #AAA;\n",
              "      --disabled-bg-color: #DDD;\n",
              "  }\n",
              "\n",
              "  [theme=dark] .colab-df-quickchart {\n",
              "      --bg-color: #3B4455;\n",
              "      --fill-color: #D2E3FC;\n",
              "      --hover-bg-color: #434B5C;\n",
              "      --hover-fill-color: #FFFFFF;\n",
              "      --disabled-bg-color: #3B4455;\n",
              "      --disabled-fill-color: #666;\n",
              "  }\n",
              "\n",
              "  .colab-df-quickchart {\n",
              "    background-color: var(--bg-color);\n",
              "    border: none;\n",
              "    border-radius: 50%;\n",
              "    cursor: pointer;\n",
              "    display: none;\n",
              "    fill: var(--fill-color);\n",
              "    height: 32px;\n",
              "    padding: 0;\n",
              "    width: 32px;\n",
              "  }\n",
              "\n",
              "  .colab-df-quickchart:hover {\n",
              "    background-color: var(--hover-bg-color);\n",
              "    box-shadow: 0 1px 2px rgba(60, 64, 67, 0.3), 0 1px 3px 1px rgba(60, 64, 67, 0.15);\n",
              "    fill: var(--button-hover-fill-color);\n",
              "  }\n",
              "\n",
              "  .colab-df-quickchart-complete:disabled,\n",
              "  .colab-df-quickchart-complete:disabled:hover {\n",
              "    background-color: var(--disabled-bg-color);\n",
              "    fill: var(--disabled-fill-color);\n",
              "    box-shadow: none;\n",
              "  }\n",
              "\n",
              "  .colab-df-spinner {\n",
              "    border: 2px solid var(--fill-color);\n",
              "    border-color: transparent;\n",
              "    border-bottom-color: var(--fill-color);\n",
              "    animation:\n",
              "      spin 1s steps(1) infinite;\n",
              "  }\n",
              "\n",
              "  @keyframes spin {\n",
              "    0% {\n",
              "      border-color: transparent;\n",
              "      border-bottom-color: var(--fill-color);\n",
              "      border-left-color: var(--fill-color);\n",
              "    }\n",
              "    20% {\n",
              "      border-color: transparent;\n",
              "      border-left-color: var(--fill-color);\n",
              "      border-top-color: var(--fill-color);\n",
              "    }\n",
              "    30% {\n",
              "      border-color: transparent;\n",
              "      border-left-color: var(--fill-color);\n",
              "      border-top-color: var(--fill-color);\n",
              "      border-right-color: var(--fill-color);\n",
              "    }\n",
              "    40% {\n",
              "      border-color: transparent;\n",
              "      border-right-color: var(--fill-color);\n",
              "      border-top-color: var(--fill-color);\n",
              "    }\n",
              "    60% {\n",
              "      border-color: transparent;\n",
              "      border-right-color: var(--fill-color);\n",
              "    }\n",
              "    80% {\n",
              "      border-color: transparent;\n",
              "      border-right-color: var(--fill-color);\n",
              "      border-bottom-color: var(--fill-color);\n",
              "    }\n",
              "    90% {\n",
              "      border-color: transparent;\n",
              "      border-bottom-color: var(--fill-color);\n",
              "    }\n",
              "  }\n",
              "</style>\n",
              "\n",
              "  <script>\n",
              "    async function quickchart(key) {\n",
              "      const quickchartButtonEl =\n",
              "        document.querySelector('#' + key + ' button');\n",
              "      quickchartButtonEl.disabled = true;  // To prevent multiple clicks.\n",
              "      quickchartButtonEl.classList.add('colab-df-spinner');\n",
              "      try {\n",
              "        const charts = await google.colab.kernel.invokeFunction(\n",
              "            'suggestCharts', [key], {});\n",
              "      } catch (error) {\n",
              "        console.error('Error during call to suggestCharts:', error);\n",
              "      }\n",
              "      quickchartButtonEl.classList.remove('colab-df-spinner');\n",
              "      quickchartButtonEl.classList.add('colab-df-quickchart-complete');\n",
              "    }\n",
              "    (() => {\n",
              "      let quickchartButtonEl =\n",
              "        document.querySelector('#df-1ff6aa52-4d02-499a-93f8-72b9e7579caa button');\n",
              "      quickchartButtonEl.style.display =\n",
              "        google.colab.kernel.accessAllowed ? 'block' : 'none';\n",
              "    })();\n",
              "  </script>\n",
              "</div>\n",
              "\n",
              "  <div id=\"id_ccef0d82-d897-4a8e-81b1-e3b19960382a\">\n",
              "    <style>\n",
              "      .colab-df-generate {\n",
              "        background-color: #E8F0FE;\n",
              "        border: none;\n",
              "        border-radius: 50%;\n",
              "        cursor: pointer;\n",
              "        display: none;\n",
              "        fill: #1967D2;\n",
              "        height: 32px;\n",
              "        padding: 0 0 0 0;\n",
              "        width: 32px;\n",
              "      }\n",
              "\n",
              "      .colab-df-generate:hover {\n",
              "        background-color: #E2EBFA;\n",
              "        box-shadow: 0px 1px 2px rgba(60, 64, 67, 0.3), 0px 1px 3px 1px rgba(60, 64, 67, 0.15);\n",
              "        fill: #174EA6;\n",
              "      }\n",
              "\n",
              "      [theme=dark] .colab-df-generate {\n",
              "        background-color: #3B4455;\n",
              "        fill: #D2E3FC;\n",
              "      }\n",
              "\n",
              "      [theme=dark] .colab-df-generate:hover {\n",
              "        background-color: #434B5C;\n",
              "        box-shadow: 0px 1px 3px 1px rgba(0, 0, 0, 0.15);\n",
              "        filter: drop-shadow(0px 1px 2px rgba(0, 0, 0, 0.3));\n",
              "        fill: #FFFFFF;\n",
              "      }\n",
              "    </style>\n",
              "    <button class=\"colab-df-generate\" onclick=\"generateWithVariable('X')\"\n",
              "            title=\"Generate code using this dataframe.\"\n",
              "            style=\"display:none;\">\n",
              "\n",
              "  <svg xmlns=\"http://www.w3.org/2000/svg\" height=\"24px\"viewBox=\"0 0 24 24\"\n",
              "       width=\"24px\">\n",
              "    <path d=\"M7,19H8.4L18.45,9,17,7.55,7,17.6ZM5,21V16.75L18.45,3.32a2,2,0,0,1,2.83,0l1.4,1.43a1.91,1.91,0,0,1,.58,1.4,1.91,1.91,0,0,1-.58,1.4L9.25,21ZM18.45,9,17,7.55Zm-12,3A5.31,5.31,0,0,0,4.9,8.1,5.31,5.31,0,0,0,1,6.5,5.31,5.31,0,0,0,4.9,4.9,5.31,5.31,0,0,0,6.5,1,5.31,5.31,0,0,0,8.1,4.9,5.31,5.31,0,0,0,12,6.5,5.46,5.46,0,0,0,6.5,12Z\"/>\n",
              "  </svg>\n",
              "    </button>\n",
              "    <script>\n",
              "      (() => {\n",
              "      const buttonEl =\n",
              "        document.querySelector('#id_ccef0d82-d897-4a8e-81b1-e3b19960382a button.colab-df-generate');\n",
              "      buttonEl.style.display =\n",
              "        google.colab.kernel.accessAllowed ? 'block' : 'none';\n",
              "\n",
              "      buttonEl.onclick = () => {\n",
              "        google.colab.notebook.generateWithVariable('X');\n",
              "      }\n",
              "      })();\n",
              "    </script>\n",
              "  </div>\n",
              "\n",
              "    </div>\n",
              "  </div>\n"
            ],
            "application/vnd.google.colaboratory.intrinsic+json": {
              "type": "dataframe",
              "variable_name": "X",
              "summary": "{\n  \"name\": \"X\",\n  \"rows\": 20,\n  \"fields\": [\n    {\n      \"column\": \"Ticker\",\n      \"properties\": {\n        \"dtype\": \"string\",\n        \"num_unique_values\": 20,\n        \"samples\": [\n          \"AAPL\",\n          \"TSLA\",\n          \"PE&OLES.MX\"\n        ],\n        \"semantic_type\": \"\",\n        \"description\": \"\"\n      }\n    },\n    {\n      \"column\": \"Movimientos Finales\",\n      \"properties\": {\n        \"dtype\": \"number\",\n        \"std\": 125.19828896052312,\n        \"min\": 13.429999351501465,\n        \"max\": 472.5002861022949,\n        \"num_unique_values\": 20,\n        \"samples\": [\n          163.5602798461914,\n          398.0386686325073,\n          270.05003356933594\n        ],\n        \"semantic_type\": \"\",\n        \"description\": \"\"\n      }\n    },\n    {\n      \"column\": \"Rendimientos\",\n      \"properties\": {\n        \"dtype\": \"number\",\n        \"std\": 0.1727904455327404,\n        \"min\": -0.21209132319399474,\n        \"max\": 0.5964290149576926,\n        \"num_unique_values\": 20,\n        \"samples\": [\n          0.30150862516761157,\n          0.5964290149576926,\n          0.018999912687921543\n        ],\n        \"semantic_type\": \"\",\n        \"description\": \"\"\n      }\n    }\n  ]\n}"
            }
          },
          "metadata": {},
          "execution_count": 29
        }
      ]
    },
    {
      "cell_type": "code",
      "source": [
        "# Realizar el análisis de clúster\n",
        "kmeans = KMeans(n_clusters=3).fit(X)\n",
        "X['Cluster'] = kmeans.labels_"
      ],
      "metadata": {
        "colab": {
          "base_uri": "https://localhost:8080/"
        },
        "id": "b9Adtm32INp5",
        "outputId": "acb69219-f393-440a-a887-c633d9327be0"
      },
      "execution_count": 30,
      "outputs": [
        {
          "output_type": "stream",
          "name": "stderr",
          "text": [
            "/usr/local/lib/python3.10/dist-packages/sklearn/cluster/_kmeans.py:870: FutureWarning: The default value of `n_init` will change from 10 to 'auto' in 1.4. Set the value of `n_init` explicitly to suppress the warning\n",
            "  warnings.warn(\n"
          ]
        }
      ]
    },
    {
      "cell_type": "code",
      "source": [
        "# Paso 4: Simulación Monte Carlo para la frontera eficiente\n",
        "n_simulaciones = 1000\n",
        "pesos_optimos = []\n",
        "resultados = np.zeros((n_simulaciones, 3))  # columnas para rendimiento, riesgo y Sharpe Ratio\n",
        "\n",
        "for i in range(n_simulaciones):\n",
        "    pesos = np.random.random(len(tickers))\n",
        "    pesos /= np.sum(pesos)\n",
        "    rendimientos_esperados = np.sum(rendimientos * pesos)\n",
        "    volatilidad = np.sqrt(np.dot(pesos.T, np.dot(data.pct_change().cov() * 252, pesos)))\n",
        "    sharpe_ratio = rendimientos_esperados / volatilidad\n",
        "    resultados[i] = [rendimientos_esperados, volatilidad, sharpe_ratio]\n",
        "    pesos_optimos.append(pesos)\n",
        "\n",
        "resultados_df = pd.DataFrame(resultados, columns=['Rendimiento', 'Riesgo', 'Sharpe Ratio'])\n",
        "max_sharpe_idx = resultados_df['Sharpe Ratio'].idxmax()\n",
        "max_sharpe_ratio = resultados_df.loc[max_sharpe_idx]\n",
        "pesos_optimos = pesos_optimos[max_sharpe_idx]"
      ],
      "metadata": {
        "id": "1CcOUAmkImiw"
      },
      "execution_count": 33,
      "outputs": []
    },
    {
      "cell_type": "code",
      "source": [
        "# Paso 5: Calcular el índice de Sharpe y determinar los pesos óptimos\n",
        "indice_sharpe = max_sharpe_ratio['Sharpe Ratio']\n",
        "rendimiento_optimo = max_sharpe_ratio['Rendimiento']\n",
        "riesgo_optimo = max_sharpe_ratio['Riesgo']\n"
      ],
      "metadata": {
        "id": "sIMGD2izI0zP"
      },
      "execution_count": 34,
      "outputs": []
    },
    {
      "cell_type": "code",
      "source": [
        "# Mostrar resultados\n",
        "print(f\"Índice de Sharpe óptimo: {indice_sharpe}\")\n",
        "print(f\"Rendimiento óptimo: {rendimiento_optimo}\")\n",
        "print(f\"Riesgo óptimo: {riesgo_optimo}\")"
      ],
      "metadata": {
        "colab": {
          "base_uri": "https://localhost:8080/"
        },
        "id": "vpgswjYMI5wh",
        "outputId": "2b87a2f5-5922-4308-9eb7-c9aaadaee964"
      },
      "execution_count": 35,
      "outputs": [
        {
          "output_type": "stream",
          "name": "stdout",
          "text": [
            "Índice de Sharpe óptimo: 1.1278952473791954\n",
            "Rendimiento óptimo: 0.231569764251138\n",
            "Riesgo óptimo: 0.2053114106023756\n"
          ]
        }
      ]
    },
    {
      "cell_type": "code",
      "source": [
        "X"
      ],
      "metadata": {
        "colab": {
          "base_uri": "https://localhost:8080/",
          "height": 700
        },
        "id": "XG3z2Q04JCBS",
        "outputId": "66c20454-7e14-41ee-c0de-000165fbd560"
      },
      "execution_count": 36,
      "outputs": [
        {
          "output_type": "execute_result",
          "data": {
            "text/plain": [
              "               Movimientos Finales  Rendimientos  Cluster\n",
              "Ticker                                                   \n",
              "AAPL                    163.560280      0.301509        1\n",
              "ALSEA.MX                 55.592428      0.069857        1\n",
              "AMZN                    127.119995      0.213405        1\n",
              "BIMBOA.MX                72.001814      0.174854        1\n",
              "BRK-B                   208.350006      0.119742        2\n",
              "CEMEXCPO.MX              13.429999      0.058931        1\n",
              "FEMSAUBD.MX             112.488464      0.071421        1\n",
              "GFNORTEO.MX             127.158035      0.190989        1\n",
              "GMEXICOB.MX              79.339310      0.178164        1\n",
              "GOOGL                   100.605000      0.203079        1\n",
              "JNJ                      75.407791      0.065541        1\n",
              "KIMBERA.MX               17.774832      0.096980        1\n",
              "LIVEPOLC-1.MX            87.730934      0.043765        1\n",
              "MSFT                    302.243355      0.295411        2\n",
              "NVDA                    472.500286      0.503506        0\n",
              "PE&OLES.MX              270.050034      0.019000        2\n",
              "TLEVISACPO.MX            67.918924     -0.212091        1\n",
              "TSLA                    398.038669      0.596429        0\n",
              "V                       152.498680      0.177168        1\n",
              "WMT                      31.175812      0.118097        1"
            ],
            "text/html": [
              "\n",
              "  <div id=\"df-6257125a-51e3-48f6-890a-9e7680bdcd72\" class=\"colab-df-container\">\n",
              "    <div>\n",
              "<style scoped>\n",
              "    .dataframe tbody tr th:only-of-type {\n",
              "        vertical-align: middle;\n",
              "    }\n",
              "\n",
              "    .dataframe tbody tr th {\n",
              "        vertical-align: top;\n",
              "    }\n",
              "\n",
              "    .dataframe thead th {\n",
              "        text-align: right;\n",
              "    }\n",
              "</style>\n",
              "<table border=\"1\" class=\"dataframe\">\n",
              "  <thead>\n",
              "    <tr style=\"text-align: right;\">\n",
              "      <th></th>\n",
              "      <th>Movimientos Finales</th>\n",
              "      <th>Rendimientos</th>\n",
              "      <th>Cluster</th>\n",
              "    </tr>\n",
              "    <tr>\n",
              "      <th>Ticker</th>\n",
              "      <th></th>\n",
              "      <th></th>\n",
              "      <th></th>\n",
              "    </tr>\n",
              "  </thead>\n",
              "  <tbody>\n",
              "    <tr>\n",
              "      <th>AAPL</th>\n",
              "      <td>163.560280</td>\n",
              "      <td>0.301509</td>\n",
              "      <td>1</td>\n",
              "    </tr>\n",
              "    <tr>\n",
              "      <th>ALSEA.MX</th>\n",
              "      <td>55.592428</td>\n",
              "      <td>0.069857</td>\n",
              "      <td>1</td>\n",
              "    </tr>\n",
              "    <tr>\n",
              "      <th>AMZN</th>\n",
              "      <td>127.119995</td>\n",
              "      <td>0.213405</td>\n",
              "      <td>1</td>\n",
              "    </tr>\n",
              "    <tr>\n",
              "      <th>BIMBOA.MX</th>\n",
              "      <td>72.001814</td>\n",
              "      <td>0.174854</td>\n",
              "      <td>1</td>\n",
              "    </tr>\n",
              "    <tr>\n",
              "      <th>BRK-B</th>\n",
              "      <td>208.350006</td>\n",
              "      <td>0.119742</td>\n",
              "      <td>2</td>\n",
              "    </tr>\n",
              "    <tr>\n",
              "      <th>CEMEXCPO.MX</th>\n",
              "      <td>13.429999</td>\n",
              "      <td>0.058931</td>\n",
              "      <td>1</td>\n",
              "    </tr>\n",
              "    <tr>\n",
              "      <th>FEMSAUBD.MX</th>\n",
              "      <td>112.488464</td>\n",
              "      <td>0.071421</td>\n",
              "      <td>1</td>\n",
              "    </tr>\n",
              "    <tr>\n",
              "      <th>GFNORTEO.MX</th>\n",
              "      <td>127.158035</td>\n",
              "      <td>0.190989</td>\n",
              "      <td>1</td>\n",
              "    </tr>\n",
              "    <tr>\n",
              "      <th>GMEXICOB.MX</th>\n",
              "      <td>79.339310</td>\n",
              "      <td>0.178164</td>\n",
              "      <td>1</td>\n",
              "    </tr>\n",
              "    <tr>\n",
              "      <th>GOOGL</th>\n",
              "      <td>100.605000</td>\n",
              "      <td>0.203079</td>\n",
              "      <td>1</td>\n",
              "    </tr>\n",
              "    <tr>\n",
              "      <th>JNJ</th>\n",
              "      <td>75.407791</td>\n",
              "      <td>0.065541</td>\n",
              "      <td>1</td>\n",
              "    </tr>\n",
              "    <tr>\n",
              "      <th>KIMBERA.MX</th>\n",
              "      <td>17.774832</td>\n",
              "      <td>0.096980</td>\n",
              "      <td>1</td>\n",
              "    </tr>\n",
              "    <tr>\n",
              "      <th>LIVEPOLC-1.MX</th>\n",
              "      <td>87.730934</td>\n",
              "      <td>0.043765</td>\n",
              "      <td>1</td>\n",
              "    </tr>\n",
              "    <tr>\n",
              "      <th>MSFT</th>\n",
              "      <td>302.243355</td>\n",
              "      <td>0.295411</td>\n",
              "      <td>2</td>\n",
              "    </tr>\n",
              "    <tr>\n",
              "      <th>NVDA</th>\n",
              "      <td>472.500286</td>\n",
              "      <td>0.503506</td>\n",
              "      <td>0</td>\n",
              "    </tr>\n",
              "    <tr>\n",
              "      <th>PE&amp;OLES.MX</th>\n",
              "      <td>270.050034</td>\n",
              "      <td>0.019000</td>\n",
              "      <td>2</td>\n",
              "    </tr>\n",
              "    <tr>\n",
              "      <th>TLEVISACPO.MX</th>\n",
              "      <td>67.918924</td>\n",
              "      <td>-0.212091</td>\n",
              "      <td>1</td>\n",
              "    </tr>\n",
              "    <tr>\n",
              "      <th>TSLA</th>\n",
              "      <td>398.038669</td>\n",
              "      <td>0.596429</td>\n",
              "      <td>0</td>\n",
              "    </tr>\n",
              "    <tr>\n",
              "      <th>V</th>\n",
              "      <td>152.498680</td>\n",
              "      <td>0.177168</td>\n",
              "      <td>1</td>\n",
              "    </tr>\n",
              "    <tr>\n",
              "      <th>WMT</th>\n",
              "      <td>31.175812</td>\n",
              "      <td>0.118097</td>\n",
              "      <td>1</td>\n",
              "    </tr>\n",
              "  </tbody>\n",
              "</table>\n",
              "</div>\n",
              "    <div class=\"colab-df-buttons\">\n",
              "\n",
              "  <div class=\"colab-df-container\">\n",
              "    <button class=\"colab-df-convert\" onclick=\"convertToInteractive('df-6257125a-51e3-48f6-890a-9e7680bdcd72')\"\n",
              "            title=\"Convert this dataframe to an interactive table.\"\n",
              "            style=\"display:none;\">\n",
              "\n",
              "  <svg xmlns=\"http://www.w3.org/2000/svg\" height=\"24px\" viewBox=\"0 -960 960 960\">\n",
              "    <path d=\"M120-120v-720h720v720H120Zm60-500h600v-160H180v160Zm220 220h160v-160H400v160Zm0 220h160v-160H400v160ZM180-400h160v-160H180v160Zm440 0h160v-160H620v160ZM180-180h160v-160H180v160Zm440 0h160v-160H620v160Z\"/>\n",
              "  </svg>\n",
              "    </button>\n",
              "\n",
              "  <style>\n",
              "    .colab-df-container {\n",
              "      display:flex;\n",
              "      gap: 12px;\n",
              "    }\n",
              "\n",
              "    .colab-df-convert {\n",
              "      background-color: #E8F0FE;\n",
              "      border: none;\n",
              "      border-radius: 50%;\n",
              "      cursor: pointer;\n",
              "      display: none;\n",
              "      fill: #1967D2;\n",
              "      height: 32px;\n",
              "      padding: 0 0 0 0;\n",
              "      width: 32px;\n",
              "    }\n",
              "\n",
              "    .colab-df-convert:hover {\n",
              "      background-color: #E2EBFA;\n",
              "      box-shadow: 0px 1px 2px rgba(60, 64, 67, 0.3), 0px 1px 3px 1px rgba(60, 64, 67, 0.15);\n",
              "      fill: #174EA6;\n",
              "    }\n",
              "\n",
              "    .colab-df-buttons div {\n",
              "      margin-bottom: 4px;\n",
              "    }\n",
              "\n",
              "    [theme=dark] .colab-df-convert {\n",
              "      background-color: #3B4455;\n",
              "      fill: #D2E3FC;\n",
              "    }\n",
              "\n",
              "    [theme=dark] .colab-df-convert:hover {\n",
              "      background-color: #434B5C;\n",
              "      box-shadow: 0px 1px 3px 1px rgba(0, 0, 0, 0.15);\n",
              "      filter: drop-shadow(0px 1px 2px rgba(0, 0, 0, 0.3));\n",
              "      fill: #FFFFFF;\n",
              "    }\n",
              "  </style>\n",
              "\n",
              "    <script>\n",
              "      const buttonEl =\n",
              "        document.querySelector('#df-6257125a-51e3-48f6-890a-9e7680bdcd72 button.colab-df-convert');\n",
              "      buttonEl.style.display =\n",
              "        google.colab.kernel.accessAllowed ? 'block' : 'none';\n",
              "\n",
              "      async function convertToInteractive(key) {\n",
              "        const element = document.querySelector('#df-6257125a-51e3-48f6-890a-9e7680bdcd72');\n",
              "        const dataTable =\n",
              "          await google.colab.kernel.invokeFunction('convertToInteractive',\n",
              "                                                    [key], {});\n",
              "        if (!dataTable) return;\n",
              "\n",
              "        const docLinkHtml = 'Like what you see? Visit the ' +\n",
              "          '<a target=\"_blank\" href=https://colab.research.google.com/notebooks/data_table.ipynb>data table notebook</a>'\n",
              "          + ' to learn more about interactive tables.';\n",
              "        element.innerHTML = '';\n",
              "        dataTable['output_type'] = 'display_data';\n",
              "        await google.colab.output.renderOutput(dataTable, element);\n",
              "        const docLink = document.createElement('div');\n",
              "        docLink.innerHTML = docLinkHtml;\n",
              "        element.appendChild(docLink);\n",
              "      }\n",
              "    </script>\n",
              "  </div>\n",
              "\n",
              "\n",
              "<div id=\"df-34e28f35-60d8-4359-98de-c7426b6e0647\">\n",
              "  <button class=\"colab-df-quickchart\" onclick=\"quickchart('df-34e28f35-60d8-4359-98de-c7426b6e0647')\"\n",
              "            title=\"Suggest charts\"\n",
              "            style=\"display:none;\">\n",
              "\n",
              "<svg xmlns=\"http://www.w3.org/2000/svg\" height=\"24px\"viewBox=\"0 0 24 24\"\n",
              "     width=\"24px\">\n",
              "    <g>\n",
              "        <path d=\"M19 3H5c-1.1 0-2 .9-2 2v14c0 1.1.9 2 2 2h14c1.1 0 2-.9 2-2V5c0-1.1-.9-2-2-2zM9 17H7v-7h2v7zm4 0h-2V7h2v10zm4 0h-2v-4h2v4z\"/>\n",
              "    </g>\n",
              "</svg>\n",
              "  </button>\n",
              "\n",
              "<style>\n",
              "  .colab-df-quickchart {\n",
              "      --bg-color: #E8F0FE;\n",
              "      --fill-color: #1967D2;\n",
              "      --hover-bg-color: #E2EBFA;\n",
              "      --hover-fill-color: #174EA6;\n",
              "      --disabled-fill-color: #AAA;\n",
              "      --disabled-bg-color: #DDD;\n",
              "  }\n",
              "\n",
              "  [theme=dark] .colab-df-quickchart {\n",
              "      --bg-color: #3B4455;\n",
              "      --fill-color: #D2E3FC;\n",
              "      --hover-bg-color: #434B5C;\n",
              "      --hover-fill-color: #FFFFFF;\n",
              "      --disabled-bg-color: #3B4455;\n",
              "      --disabled-fill-color: #666;\n",
              "  }\n",
              "\n",
              "  .colab-df-quickchart {\n",
              "    background-color: var(--bg-color);\n",
              "    border: none;\n",
              "    border-radius: 50%;\n",
              "    cursor: pointer;\n",
              "    display: none;\n",
              "    fill: var(--fill-color);\n",
              "    height: 32px;\n",
              "    padding: 0;\n",
              "    width: 32px;\n",
              "  }\n",
              "\n",
              "  .colab-df-quickchart:hover {\n",
              "    background-color: var(--hover-bg-color);\n",
              "    box-shadow: 0 1px 2px rgba(60, 64, 67, 0.3), 0 1px 3px 1px rgba(60, 64, 67, 0.15);\n",
              "    fill: var(--button-hover-fill-color);\n",
              "  }\n",
              "\n",
              "  .colab-df-quickchart-complete:disabled,\n",
              "  .colab-df-quickchart-complete:disabled:hover {\n",
              "    background-color: var(--disabled-bg-color);\n",
              "    fill: var(--disabled-fill-color);\n",
              "    box-shadow: none;\n",
              "  }\n",
              "\n",
              "  .colab-df-spinner {\n",
              "    border: 2px solid var(--fill-color);\n",
              "    border-color: transparent;\n",
              "    border-bottom-color: var(--fill-color);\n",
              "    animation:\n",
              "      spin 1s steps(1) infinite;\n",
              "  }\n",
              "\n",
              "  @keyframes spin {\n",
              "    0% {\n",
              "      border-color: transparent;\n",
              "      border-bottom-color: var(--fill-color);\n",
              "      border-left-color: var(--fill-color);\n",
              "    }\n",
              "    20% {\n",
              "      border-color: transparent;\n",
              "      border-left-color: var(--fill-color);\n",
              "      border-top-color: var(--fill-color);\n",
              "    }\n",
              "    30% {\n",
              "      border-color: transparent;\n",
              "      border-left-color: var(--fill-color);\n",
              "      border-top-color: var(--fill-color);\n",
              "      border-right-color: var(--fill-color);\n",
              "    }\n",
              "    40% {\n",
              "      border-color: transparent;\n",
              "      border-right-color: var(--fill-color);\n",
              "      border-top-color: var(--fill-color);\n",
              "    }\n",
              "    60% {\n",
              "      border-color: transparent;\n",
              "      border-right-color: var(--fill-color);\n",
              "    }\n",
              "    80% {\n",
              "      border-color: transparent;\n",
              "      border-right-color: var(--fill-color);\n",
              "      border-bottom-color: var(--fill-color);\n",
              "    }\n",
              "    90% {\n",
              "      border-color: transparent;\n",
              "      border-bottom-color: var(--fill-color);\n",
              "    }\n",
              "  }\n",
              "</style>\n",
              "\n",
              "  <script>\n",
              "    async function quickchart(key) {\n",
              "      const quickchartButtonEl =\n",
              "        document.querySelector('#' + key + ' button');\n",
              "      quickchartButtonEl.disabled = true;  // To prevent multiple clicks.\n",
              "      quickchartButtonEl.classList.add('colab-df-spinner');\n",
              "      try {\n",
              "        const charts = await google.colab.kernel.invokeFunction(\n",
              "            'suggestCharts', [key], {});\n",
              "      } catch (error) {\n",
              "        console.error('Error during call to suggestCharts:', error);\n",
              "      }\n",
              "      quickchartButtonEl.classList.remove('colab-df-spinner');\n",
              "      quickchartButtonEl.classList.add('colab-df-quickchart-complete');\n",
              "    }\n",
              "    (() => {\n",
              "      let quickchartButtonEl =\n",
              "        document.querySelector('#df-34e28f35-60d8-4359-98de-c7426b6e0647 button');\n",
              "      quickchartButtonEl.style.display =\n",
              "        google.colab.kernel.accessAllowed ? 'block' : 'none';\n",
              "    })();\n",
              "  </script>\n",
              "</div>\n",
              "\n",
              "  <div id=\"id_a8fba86b-f981-41fd-ba27-3be097b7cd08\">\n",
              "    <style>\n",
              "      .colab-df-generate {\n",
              "        background-color: #E8F0FE;\n",
              "        border: none;\n",
              "        border-radius: 50%;\n",
              "        cursor: pointer;\n",
              "        display: none;\n",
              "        fill: #1967D2;\n",
              "        height: 32px;\n",
              "        padding: 0 0 0 0;\n",
              "        width: 32px;\n",
              "      }\n",
              "\n",
              "      .colab-df-generate:hover {\n",
              "        background-color: #E2EBFA;\n",
              "        box-shadow: 0px 1px 2px rgba(60, 64, 67, 0.3), 0px 1px 3px 1px rgba(60, 64, 67, 0.15);\n",
              "        fill: #174EA6;\n",
              "      }\n",
              "\n",
              "      [theme=dark] .colab-df-generate {\n",
              "        background-color: #3B4455;\n",
              "        fill: #D2E3FC;\n",
              "      }\n",
              "\n",
              "      [theme=dark] .colab-df-generate:hover {\n",
              "        background-color: #434B5C;\n",
              "        box-shadow: 0px 1px 3px 1px rgba(0, 0, 0, 0.15);\n",
              "        filter: drop-shadow(0px 1px 2px rgba(0, 0, 0, 0.3));\n",
              "        fill: #FFFFFF;\n",
              "      }\n",
              "    </style>\n",
              "    <button class=\"colab-df-generate\" onclick=\"generateWithVariable('X')\"\n",
              "            title=\"Generate code using this dataframe.\"\n",
              "            style=\"display:none;\">\n",
              "\n",
              "  <svg xmlns=\"http://www.w3.org/2000/svg\" height=\"24px\"viewBox=\"0 0 24 24\"\n",
              "       width=\"24px\">\n",
              "    <path d=\"M7,19H8.4L18.45,9,17,7.55,7,17.6ZM5,21V16.75L18.45,3.32a2,2,0,0,1,2.83,0l1.4,1.43a1.91,1.91,0,0,1,.58,1.4,1.91,1.91,0,0,1-.58,1.4L9.25,21ZM18.45,9,17,7.55Zm-12,3A5.31,5.31,0,0,0,4.9,8.1,5.31,5.31,0,0,0,1,6.5,5.31,5.31,0,0,0,4.9,4.9,5.31,5.31,0,0,0,6.5,1,5.31,5.31,0,0,0,8.1,4.9,5.31,5.31,0,0,0,12,6.5,5.46,5.46,0,0,0,6.5,12Z\"/>\n",
              "  </svg>\n",
              "    </button>\n",
              "    <script>\n",
              "      (() => {\n",
              "      const buttonEl =\n",
              "        document.querySelector('#id_a8fba86b-f981-41fd-ba27-3be097b7cd08 button.colab-df-generate');\n",
              "      buttonEl.style.display =\n",
              "        google.colab.kernel.accessAllowed ? 'block' : 'none';\n",
              "\n",
              "      buttonEl.onclick = () => {\n",
              "        google.colab.notebook.generateWithVariable('X');\n",
              "      }\n",
              "      })();\n",
              "    </script>\n",
              "  </div>\n",
              "\n",
              "    </div>\n",
              "  </div>\n"
            ],
            "application/vnd.google.colaboratory.intrinsic+json": {
              "type": "dataframe",
              "variable_name": "X",
              "summary": "{\n  \"name\": \"X\",\n  \"rows\": 20,\n  \"fields\": [\n    {\n      \"column\": \"Ticker\",\n      \"properties\": {\n        \"dtype\": \"string\",\n        \"num_unique_values\": 20,\n        \"samples\": [\n          \"AAPL\",\n          \"TSLA\",\n          \"PE&OLES.MX\"\n        ],\n        \"semantic_type\": \"\",\n        \"description\": \"\"\n      }\n    },\n    {\n      \"column\": \"Movimientos Finales\",\n      \"properties\": {\n        \"dtype\": \"number\",\n        \"std\": 125.19828896052312,\n        \"min\": 13.429999351501465,\n        \"max\": 472.5002861022949,\n        \"num_unique_values\": 20,\n        \"samples\": [\n          163.5602798461914,\n          398.0386686325073,\n          270.05003356933594\n        ],\n        \"semantic_type\": \"\",\n        \"description\": \"\"\n      }\n    },\n    {\n      \"column\": \"Rendimientos\",\n      \"properties\": {\n        \"dtype\": \"number\",\n        \"std\": 0.1727904455327404,\n        \"min\": -0.21209132319399474,\n        \"max\": 0.5964290149576926,\n        \"num_unique_values\": 20,\n        \"samples\": [\n          0.30150862516761157,\n          0.5964290149576926,\n          0.018999912687921543\n        ],\n        \"semantic_type\": \"\",\n        \"description\": \"\"\n      }\n    },\n    {\n      \"column\": \"Cluster\",\n      \"properties\": {\n        \"dtype\": \"int32\",\n        \"num_unique_values\": 3,\n        \"samples\": [\n          1,\n          2,\n          0\n        ],\n        \"semantic_type\": \"\",\n        \"description\": \"\"\n      }\n    }\n  ]\n}"
            }
          },
          "metadata": {},
          "execution_count": 36
        }
      ]
    },
    {
      "cell_type": "code",
      "source": [],
      "metadata": {
        "id": "_Bt_XX7AJIpm"
      },
      "execution_count": null,
      "outputs": []
    }
  ]
}