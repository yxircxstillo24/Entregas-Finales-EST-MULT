{
  "nbformat": 4,
  "nbformat_minor": 0,
  "metadata": {
    "colab": {
      "provenance": [],
      "collapsed_sections": [
        "mv19oONAIywl",
        "xtOUaCwZ7BS1",
        "0WKfyE6a9n36"
      ]
    },
    "kernelspec": {
      "name": "python3",
      "display_name": "Python 3"
    },
    "language_info": {
      "name": "python"
    }
  },
  "cells": [
    {
      "cell_type": "markdown",
      "source": [
        "# Tarea 1: PCA"
      ],
      "metadata": {
        "id": "mYQ6EDEkbiCE"
      }
    },
    {
      "cell_type": "markdown",
      "source": [
        "## Ejercicio 2"
      ],
      "metadata": {
        "id": "mv19oONAIywl"
      }
    },
    {
      "cell_type": "code",
      "source": [
        "import numpy as np\n",
        "X = np.array([[-1,0,1],\n",
        "             [0,-1,1]])"
      ],
      "metadata": {
        "id": "mThUebIkJTmB"
      },
      "execution_count": null,
      "outputs": []
    },
    {
      "cell_type": "code",
      "source": [
        "def PCA(X , num_componentes):\n",
        "\n",
        "    X_media = X - np.mean(X , axis = 0)\n",
        "\n",
        "    cov_mat = np.cov(X_media , rowvar = False)\n",
        "\n",
        "    eigen_val , eigen_vec = np.linalg.eigh(cov_mat)\n",
        "\n",
        "    sorted_index = np.argsort(eigen_val)[::-1]\n",
        "    sorted_eigenval = eigen_val[sorted_index]\n",
        "    sorted_eigenvec = eigen_vec[:,sorted_index]\n",
        "\n",
        "    eigenvector_ = sorted_eigenvec[:,0:num_componentes]\n",
        "\n",
        "    X_red = np.dot(eigenvector_.transpose() , X_media.transpose() ).transpose()\n",
        "\n",
        "    return X_red"
      ],
      "metadata": {
        "id": "7W3Ecp-XIyM3"
      },
      "execution_count": null,
      "outputs": []
    },
    {
      "cell_type": "code",
      "source": [
        "X_red=PCA(X,2)\n",
        "X_red"
      ],
      "metadata": {
        "colab": {
          "base_uri": "https://localhost:8080/"
        },
        "id": "kbGV-dJ1J-qD",
        "outputId": "93a80a24-c048-49b3-9cef-83770eaad2dd"
      },
      "execution_count": null,
      "outputs": [
        {
          "output_type": "execute_result",
          "data": {
            "text/plain": [
              "array([[ 0.70710678,  0.        ],\n",
              "       [-0.70710678,  0.        ]])"
            ]
          },
          "metadata": {},
          "execution_count": 5
        }
      ]
    },
    {
      "cell_type": "markdown",
      "source": [
        "##Ejercicio 3"
      ],
      "metadata": {
        "id": "xtOUaCwZ7BS1"
      }
    },
    {
      "cell_type": "markdown",
      "source": [
        "Importamos primero los datos de wine.data"
      ],
      "metadata": {
        "id": "db1lLOyj7NLw"
      }
    },
    {
      "cell_type": "code",
      "source": [
        "import pandas as pd\n",
        "import numpy as np\n",
        "\n",
        "archivo = 'wine.csv'\n",
        "df = pd.read_csv(archivo)\n",
        "df"
      ],
      "metadata": {
        "id": "O0ZTd3r2sIHJ"
      },
      "execution_count": null,
      "outputs": []
    },
    {
      "cell_type": "code",
      "source": [
        "np.mean(df, axis = 0) # Calcula la media por columnas y las muestra en un arreglo"
      ],
      "metadata": {
        "id": "mvBFdMPtuNu0"
      },
      "execution_count": null,
      "outputs": []
    },
    {
      "cell_type": "code",
      "source": [
        "np.mean(df, axis = 1) # Calcula la media por renglones y las muestra en un arreglo"
      ],
      "metadata": {
        "id": "y_nRIcdpuVms"
      },
      "execution_count": null,
      "outputs": []
    },
    {
      "cell_type": "markdown",
      "source": [
        "Preprocesamiento de datos"
      ],
      "metadata": {
        "id": "rVGXl-UCiYW2"
      }
    },
    {
      "cell_type": "code",
      "source": [
        "# Centramos a los datos y los dividimos entre la desviación estándar\n",
        "\n",
        "df_media = df - np.mean(df, axis = 0)\n",
        "df_media\n"
      ],
      "metadata": {
        "id": "jGDaDrrUuoX1"
      },
      "execution_count": null,
      "outputs": []
    },
    {
      "cell_type": "code",
      "source": [
        "# Matriz de covarianza muestral\n",
        "\n",
        "S = np.cov(df_media, rowvar = False) #rowvar=false es para que sea de 5x5, sino seria de 20x20\n",
        "S\n"
      ],
      "metadata": {
        "id": "0u1wo6I-vEBR"
      },
      "execution_count": null,
      "outputs": []
    },
    {
      "cell_type": "code",
      "source": [
        "eigen_val = eigen_val[np.argsort(eigen_val)[::-1]]\n",
        "\n",
        "eigen_val"
      ],
      "metadata": {
        "id": "twAwyeQBxB06"
      },
      "execution_count": null,
      "outputs": []
    },
    {
      "cell_type": "code",
      "source": [
        "#recordar que esta matriz es ortogonal y tiene asociado un eigenvalor cada eigenvector (cada columna)\n",
        "eigen_vec = eigen_vec[:,np.argsort(eigen_val)[::-1]]\n",
        "\n",
        "eigen_vec"
      ],
      "metadata": {
        "id": "eaJkEtF4xhoi"
      },
      "execution_count": null,
      "outputs": []
    },
    {
      "cell_type": "code",
      "source": [
        "# suponemos que tenemos 2 componentes principales, pero esto formalmente se saca del plt.scree\n",
        "n_components = 2\n",
        "eigenvector_2 = eigen_vec[:,0:n_components]\n",
        "eigenvector_2"
      ],
      "metadata": {
        "id": "PKfSyrABKdv1"
      },
      "execution_count": null,
      "outputs": []
    },
    {
      "cell_type": "code",
      "source": [
        "# Descomposición espectral, es tomar el vector de las componentes principales multiplicado por la matriz Y y luego calculamos la trans\n",
        "#obtenemos la matriz reducida\n",
        "#esta matriz reducida ya tiene la info de las componentes principales\n",
        "\n",
        "df_red = np.dot(eigenvector_2.transpose(),df_media.transpose()).transpose()\n",
        "df_red"
      ],
      "metadata": {
        "id": "6gHe3ln6KrTa"
      },
      "execution_count": null,
      "outputs": []
    },
    {
      "cell_type": "code",
      "source": [
        "# Información total\n",
        "\n",
        "eigen_val_total = sum(eigen_val)\n",
        "\n",
        "varianza_explicada = [(i/ eigen_val_total )*100 for i in eigen_val ]\n",
        "\n",
        "varianza_explicada = np.round(varianza_explicada, 2)\n",
        "\n",
        "varianza_explicada_acumulada = np.cumsum(varianza_explicada)\n",
        "\n",
        "print(\"Varianza explicada: {}\".format(varianza_explicada))\n",
        "#esta varianza explicada, cada componente nos dice que porcentaje de la informacion nos da cada columna\n",
        "\n",
        "print(\"Varianza explicada acumulada: {}\".format(varianza_explicada_acumulada))"
      ],
      "metadata": {
        "id": "FTqM3YAbgHB-"
      },
      "execution_count": null,
      "outputs": []
    },
    {
      "cell_type": "code",
      "source": [
        "# Escribimos lo anterior como función\n",
        "def PCA(X , num_componentes):\n",
        "\n",
        "    X_media = X - np.mean(X , axis = 0)\n",
        "\n",
        "    cov_mat = np.cov(X_media , rowvar = False)\n",
        "\n",
        "    eigen_val , eigen_vec = np.linalg.eigh(cov_mat)\n",
        "\n",
        "    sorted_index = np.argsort(eigen_val)[::-1]\n",
        "    sorted_eigenval = eigen_val[sorted_index]\n",
        "    sorted_eigenvec = eigen_vec[:,sorted_index]\n",
        "\n",
        "    eigenvector_ = sorted_eigenvec[:,0:num_componentes]\n",
        "\n",
        "    X_red = np.dot(eigenvector_.transpose() , X_media.transpose() ).transpose()\n",
        "\n",
        "    return X_red"
      ],
      "metadata": {
        "id": "zD6dKku0bNcP"
      },
      "execution_count": null,
      "outputs": []
    },
    {
      "cell_type": "markdown",
      "source": [
        "##Ejercicio 4"
      ],
      "metadata": {
        "id": "0WKfyE6a9n36"
      }
    },
    {
      "cell_type": "code",
      "source": [
        "import numpy as np\n",
        "\n",
        "# Definir medias\n",
        "medias = np.array([0, 0, 0])\n",
        "\n",
        "# Definir matriz de covarianza\n",
        "covarianza = np.array([[2, 0, 0],\n",
        "                       [0, 1, 0],\n",
        "                       [0, 0, 1]])\n",
        "\n",
        "# Generar muestra aleatoria\n",
        "muestra = np.random.multivariate_normal(medias, covarianza, size=100)\n",
        "\n",
        "print(\"Muestra aleatoria generada:\")\n",
        "print(muestra)\n",
        "\n",
        "# Calculamos la matriz de covarianza de la muestra\n",
        "matriz_cov = np.cov(muestra, rowvar=False)\n",
        "\n",
        "# Calculamos los eigenvalores y eigenvectores de la matriz de covarianza\n",
        "eigenvalues, eigenvectors = np.linalg.eig(matriz_cov)\n",
        "\n",
        "# Imprimimos los eigenvalores y eigenvectores\n",
        "print(\"Eigenvalores:\")\n",
        "print(eigenvalues)\n",
        "print(\"\\nEigenvectores:\")\n",
        "print(eigenvectors)"
      ],
      "metadata": {
        "id": "0H8RT5av9vQ2",
        "colab": {
          "base_uri": "https://localhost:8080/"
        },
        "outputId": "335db09f-f5bf-4e72-c503-36cc65600c00"
      },
      "execution_count": null,
      "outputs": [
        {
          "output_type": "stream",
          "name": "stdout",
          "text": [
            "Muestra aleatoria generada:\n",
            "[[ 8.21004602e-01  3.16589661e-01 -1.55687678e-01]\n",
            " [-8.75236660e-01 -8.49405949e-01 -1.33221140e-01]\n",
            " [ 1.79172975e+00 -5.21253889e-01  2.39987959e-01]\n",
            " [-7.48243359e-01  2.74237494e-01 -2.75691151e-01]\n",
            " [-6.47650413e-02  1.09746355e+00  7.01807853e-01]\n",
            " [-3.38466776e-01 -6.03161566e-02 -1.70706178e+00]\n",
            " [ 1.12141747e+00  8.14804325e-01  5.47469445e-01]\n",
            " [ 1.81336361e+00  1.36622481e+00 -2.80868198e-01]\n",
            " [ 1.28524591e-01  1.35028503e+00 -1.14228678e+00]\n",
            " [-1.51256253e+00 -1.52898989e-01  1.76332617e-01]\n",
            " [ 2.07647434e+00 -5.94692782e-01 -2.16571407e-01]\n",
            " [ 3.26560437e+00 -1.78706364e-01  1.50920805e+00]\n",
            " [-7.84921030e-01  2.63970560e-01  8.37509374e-01]\n",
            " [ 5.32774391e-01 -1.04606118e+00  1.21738727e+00]\n",
            " [-2.03207807e-01  1.74528077e-01  8.11634251e-01]\n",
            " [-1.51482052e+00  1.01204395e+00  1.45865598e+00]\n",
            " [ 7.16499853e-01 -7.85059619e-02 -2.09611689e+00]\n",
            " [-2.18111158e+00 -9.81468317e-01 -6.05138858e-01]\n",
            " [ 1.38701792e+00  1.44230733e-01 -3.98680989e-01]\n",
            " [ 1.37489253e-01  4.08865332e-01  1.62318221e+00]\n",
            " [-3.71298368e-01  8.02177758e-01 -6.04505806e-01]\n",
            " [ 1.47765632e+00  1.31822774e+00  1.46933090e-01]\n",
            " [ 4.80936977e-01 -1.68435546e+00 -6.46720541e-01]\n",
            " [ 2.44110325e-01  9.44934187e-02 -9.88445428e-01]\n",
            " [ 2.63434051e-01 -1.04546037e+00 -1.28017709e+00]\n",
            " [-1.63118380e+00  8.58746396e-01 -1.87343283e+00]\n",
            " [ 6.51852712e-01  1.31473047e+00 -9.79663406e-01]\n",
            " [ 1.02706972e+00 -1.49885119e+00  5.59174778e-01]\n",
            " [ 8.80862866e-01 -1.35887298e+00  1.63301169e+00]\n",
            " [-2.83531238e-02 -4.76877392e-01 -6.98234467e-01]\n",
            " [ 1.19832778e+00 -8.43712993e-01  4.33575553e-01]\n",
            " [-3.09211004e-01  1.05065927e+00 -1.05083705e+00]\n",
            " [-4.16358862e+00 -1.29062409e+00  1.87602690e+00]\n",
            " [ 1.71935185e-01 -1.50665378e+00 -1.18267649e+00]\n",
            " [-6.88250936e-01  1.91927334e+00 -1.88026149e-01]\n",
            " [-3.53635945e-01  2.40139470e-01 -7.04981352e-01]\n",
            " [ 1.11307625e+00  5.01002439e-01  1.02857114e-01]\n",
            " [ 7.25111691e-01 -5.10803602e-02 -7.84427970e-01]\n",
            " [-1.67047772e+00 -1.52017547e-01  5.19175638e-01]\n",
            " [-9.45882852e-01  2.34874779e+00 -1.34053161e+00]\n",
            " [-2.14193912e-01  1.09227472e+00 -1.51847314e-01]\n",
            " [ 2.17699317e+00  5.00858145e-01 -2.37651891e+00]\n",
            " [ 3.84311691e+00 -3.78547805e-01 -2.03965089e-01]\n",
            " [-1.60006029e+00 -2.00403797e-01  1.23132363e-01]\n",
            " [ 1.68468637e+00 -1.71685396e+00  6.91051097e-01]\n",
            " [-4.31522892e-01 -9.63471793e-01  1.31454458e+00]\n",
            " [ 9.67785975e-01  2.40258830e-01  4.84765310e-01]\n",
            " [-1.06526172e-01 -3.62721600e-02  6.43293890e-02]\n",
            " [-1.48193482e+00 -3.16192121e-03 -1.88172631e+00]\n",
            " [-1.71494171e+00 -2.19826324e+00 -5.28002727e-01]\n",
            " [ 2.07820076e-01 -8.13534777e-01 -2.22604471e+00]\n",
            " [-3.39648912e-01  5.68060556e-01 -4.08073288e-01]\n",
            " [ 1.44459190e-01  6.57933318e-01  1.22757373e+00]\n",
            " [-4.20452524e-01 -8.46843119e-01 -1.81444933e+00]\n",
            " [-1.58575480e+00 -6.35204034e-01 -4.65801150e-01]\n",
            " [-2.97828543e-02 -1.05691664e-01 -2.96245189e-01]\n",
            " [-1.13013308e+00  2.31502191e-01  4.80006911e-01]\n",
            " [ 6.13296174e-01  1.87320376e+00 -4.64139499e-01]\n",
            " [-3.09045793e-01 -1.22735084e+00 -1.40666349e+00]\n",
            " [-8.43188254e-01  1.48622167e+00  1.60582424e-02]\n",
            " [ 1.88630343e-01  5.36990485e-01  6.92216290e-01]\n",
            " [-1.68778386e-01 -1.23371242e+00 -1.24302633e+00]\n",
            " [ 2.35056393e+00 -6.49881488e-02 -1.75872239e+00]\n",
            " [-1.13895099e-01 -2.07592446e+00 -1.90353755e+00]\n",
            " [-3.79766135e-01  5.06580611e-01 -1.79881115e+00]\n",
            " [-9.14722463e-01 -4.62174116e-01 -3.88364251e-01]\n",
            " [-1.05562704e+00  3.07044784e-01 -5.87963067e-01]\n",
            " [-8.65581937e-01  3.68051890e-01  3.96411757e-01]\n",
            " [ 6.05122384e-01 -1.40905368e-01 -8.65513238e-01]\n",
            " [-6.41136566e-01  4.96549557e-01  1.28022052e-01]\n",
            " [ 1.23918480e+00 -6.19872691e-01  2.73840513e-01]\n",
            " [ 1.14484014e+00 -5.35264857e-01  1.43094290e+00]\n",
            " [ 2.08948554e+00  1.58894162e-01 -2.26370905e-03]\n",
            " [-1.01612400e-01  1.60113373e+00  1.87182115e+00]\n",
            " [ 3.55201706e-01 -7.78778665e-01 -1.37088881e+00]\n",
            " [-2.05163904e-01  7.98706720e-01 -1.91299760e+00]\n",
            " [-1.41272460e+00  4.74611730e-01  3.93756142e-01]\n",
            " [-2.73095738e-01  8.62925959e-01  9.44299741e-01]\n",
            " [-1.15963967e+00  1.22917845e+00  2.87442945e-01]\n",
            " [-4.01009630e-01  1.19242184e+00  5.99259133e-03]\n",
            " [-6.95241463e-01 -2.23230644e+00  3.80676565e-01]\n",
            " [ 8.36688840e-01 -1.27084475e-02  1.32670703e+00]\n",
            " [-8.97509830e-02 -1.09388945e+00  2.46060161e-01]\n",
            " [ 6.43131116e-01 -3.81110863e-01  2.36712962e+00]\n",
            " [-9.38542195e-02 -8.87802647e-01 -7.06405567e-01]\n",
            " [-7.55343935e-01  1.07424818e+00  2.21297399e+00]\n",
            " [-4.92706509e-01  7.62911666e-02 -1.18785541e-01]\n",
            " [ 6.58352889e-01  2.30904885e+00  1.66861699e+00]\n",
            " [-1.18506512e+00 -6.14966910e-01  1.00773520e+00]\n",
            " [-1.26320042e+00  4.11747358e-01 -5.30375750e-01]\n",
            " [ 2.03921050e+00  1.22218924e+00 -1.53625406e-01]\n",
            " [-2.20806324e+00 -1.13830629e+00  1.32439350e+00]\n",
            " [-1.25099441e+00  1.03526128e-01  8.38187153e-01]\n",
            " [-1.15103751e+00  3.24454220e-01 -5.85540278e-02]\n",
            " [ 1.46984934e+00 -1.02250692e+00 -9.99620252e-01]\n",
            " [-1.76441874e+00  1.37559593e+00 -2.51188278e+00]\n",
            " [ 6.48980334e-01  7.19290681e-01 -6.79215639e-01]\n",
            " [-1.43376769e+00 -1.87635448e-01  5.39650452e-02]\n",
            " [ 8.40222311e-01  1.26206403e+00  3.03103427e-01]\n",
            " [ 1.65600817e+00  3.18922850e-01  6.20007619e-01]]\n",
            "Eigenvalores:\n",
            "[1.57706189 0.96895606 1.19351598]\n",
            "\n",
            "Eigenvectores:\n",
            "[[ 0.99748219  0.05205381  0.04816303]\n",
            " [ 0.04372215 -0.98610632  0.16025824]\n",
            " [-0.05583592  0.15774894  0.9858994 ]]\n"
          ]
        }
      ]
    },
    {
      "cell_type": "code",
      "source": [
        "from sklearn.decomposition import PCA\n",
        "import matplotlib.pyplot as plt\n",
        "\n",
        "# Creamos un objeto PCA con 3 componentes\n",
        "pca = PCA(n_components=3)\n",
        "\n",
        "# Ajustamos el modelo PCA a nuestra muestra\n",
        "pca.fit(muestra)\n",
        "\n",
        "# Transformamos nuestra muestra en las nuevas coordenadas de los componentes principales\n",
        "muestra_pca = pca.transform(muestra)\n",
        "\n",
        "# Mostramos la varianza explicada por cada componente principal\n",
        "print(\"Varianza explicada por cada componente principal:\")\n",
        "print(pca.explained_variance_ratio_)\n",
        "\n",
        "import matplotlib.pyplot as plt\n",
        "\n",
        "# Calculamos los eigenvalores de la matriz de covarianza\n",
        "eigenvalues, _ = np.linalg.eig(matriz_cov)\n",
        "\n",
        "# Ordenamos los eigenvalores de mayor a menor\n",
        "sorted_eigenvalues = np.sort(eigenvalues)[::-1]\n",
        "\n",
        "# Creamos la gráfica Scree\n",
        "plt.figure(figsize=(8, 6))\n",
        "plt.plot(np.arange(1, len(sorted_eigenvalues) + 1), sorted_eigenvalues, marker='o', linestyle='-')\n",
        "plt.title('Gráfica Scree')\n",
        "plt.xlabel('Componentes Principales')\n",
        "plt.ylabel('Eigenvalores')\n",
        "plt.grid(True)\n",
        "plt.show()\n"
      ],
      "metadata": {
        "colab": {
          "base_uri": "https://localhost:8080/",
          "height": 599
        },
        "id": "is_E8EmNSM7v",
        "outputId": "3eb5b092-cda6-4541-b863-9927cb477c10"
      },
      "execution_count": null,
      "outputs": [
        {
          "output_type": "stream",
          "name": "stdout",
          "text": [
            "Varianza explicada por cada componente principal:\n",
            "[0.51450126 0.2515335  0.23396524]\n"
          ]
        },
        {
          "output_type": "display_data",
          "data": {
            "text/plain": [
              "<Figure size 800x600 with 1 Axes>"
            ],
            "image/png": "[encoded data removed]"
          },
          "metadata": {}
        }
      ]
    },
    {
      "cell_type": "markdown",
      "source": [
        "## Ejercicio 5"
      ],
      "metadata": {
        "id": "VhfSYptiasz7"
      }
    },
    {
      "cell_type": "code",
      "source": [
        "import numpy as np\n",
        "#Definir X\n",
        "X=np.array([[1,0,0,0],[1,1,0,0],[1,1,1,0],[1,1,1,1]])\n",
        "X"
      ],
      "metadata": {
        "colab": {
          "base_uri": "https://localhost:8080/"
        },
        "id": "2qQ6X-18gIEX",
        "outputId": "1a65caa1-cc4e-4e0d-d7b0-61ea7a53cb30"
      },
      "execution_count": null,
      "outputs": [
        {
          "output_type": "execute_result",
          "data": {
            "text/plain": [
              "array([[1, 0, 0, 0],\n",
              "       [1, 1, 0, 0],\n",
              "       [1, 1, 1, 0],\n",
              "       [1, 1, 1, 1]])"
            ]
          },
          "metadata": {},
          "execution_count": 2
        }
      ]
    },
    {
      "cell_type": "code",
      "source": [
        "# Su matriz de covarianzas\n",
        "X_media = X - np.mean(X , axis = 0)\n",
        "Cov_X = np.cov(X_media, rowvar = False)\n",
        "print(Cov_X)"
      ],
      "metadata": {
        "colab": {
          "base_uri": "https://localhost:8080/"
        },
        "id": "4M-0dcNSgVme",
        "outputId": "289ed87a-4642-4474-cb88-425c46b77279"
      },
      "execution_count": null,
      "outputs": [
        {
          "output_type": "stream",
          "name": "stdout",
          "text": [
            "[[0.         0.         0.         0.        ]\n",
            " [0.         0.25       0.16666667 0.08333333]\n",
            " [0.         0.16666667 0.33333333 0.16666667]\n",
            " [0.         0.08333333 0.16666667 0.25      ]]\n"
          ]
        }
      ]
    },
    {
      "cell_type": "code",
      "source": [
        "#Definir A\n",
        "A=np.array([[3,2,1],[2,4,2],[1,2,3]])\n",
        "A"
      ],
      "metadata": {
        "id": "yPDKPZExgmCD",
        "colab": {
          "base_uri": "https://localhost:8080/"
        },
        "outputId": "bbaf8fd7-201c-4f21-996c-b2b2ccaa253d"
      },
      "execution_count": null,
      "outputs": [
        {
          "output_type": "execute_result",
          "data": {
            "text/plain": [
              "array([[3, 2, 1],\n",
              "       [2, 4, 2],\n",
              "       [1, 2, 3]])"
            ]
          },
          "metadata": {},
          "execution_count": 7
        }
      ]
    },
    {
      "cell_type": "code",
      "source": [
        "# Su matriz de covarianzas\n",
        "A_media = A - np.mean(A , axis = 0)\n",
        "Cov_A = np.cov(A_media, rowvar = False)\n",
        "print(Cov_A)"
      ],
      "metadata": {
        "colab": {
          "base_uri": "https://localhost:8080/"
        },
        "id": "rsk3sgDPkNNt",
        "outputId": "e070ec93-9231-4793-e969-756a8cfc70f8"
      },
      "execution_count": null,
      "outputs": [
        {
          "output_type": "stream",
          "name": "stdout",
          "text": [
            "[[ 1.          0.         -1.        ]\n",
            " [ 0.          1.33333333  0.        ]\n",
            " [-1.          0.          1.        ]]\n"
          ]
        }
      ]
    },
    {
      "cell_type": "code",
      "source": [
        "# Eigenvalores y eigenvectores de X\n",
        "eigen_val, eigen_vec = np.linalg.eigh(Cov_X)\n",
        "eigen_val"
      ],
      "metadata": {
        "colab": {
          "base_uri": "https://localhost:8080/"
        },
        "id": "ER6wMnfPkphy",
        "outputId": "d976f8fd-8fb4-4632-c72c-fc51f2acc460"
      },
      "execution_count": null,
      "outputs": [
        {
          "output_type": "execute_result",
          "data": {
            "text/plain": [
              "array([0.        , 0.09763107, 0.16666667, 0.56903559])"
            ]
          },
          "metadata": {},
          "execution_count": 10
        }
      ]
    },
    {
      "cell_type": "code",
      "source": [
        "# Eigenvalores y eigenvectores de A\n",
        "eigen_val, eigen_vec = np.linalg.eigh(Cov_A)\n",
        "eigen_val"
      ],
      "metadata": {
        "colab": {
          "base_uri": "https://localhost:8080/"
        },
        "id": "m6uA72olkvUK",
        "outputId": "0e847572-94e9-419c-8e86-5e1eed33b69f"
      },
      "execution_count": null,
      "outputs": [
        {
          "output_type": "execute_result",
          "data": {
            "text/plain": [
              "array([0.        , 1.33333333, 2.        ])"
            ]
          },
          "metadata": {},
          "execution_count": 11
        }
      ]
    },
    {
      "cell_type": "markdown",
      "source": [
        "No es lo mismo, ya que tienen difrentes eigenvalores."
      ],
      "metadata": {
        "id": "NN8uVx-2kzgs"
      }
    },
    {
      "cell_type": "code",
      "source": [
        "eigen_val , eigen_vec = np.linalg.eigh(Cov_X)\n",
        "\n",
        "sorted_index = np.argsort(eigen_val)[::-1]\n",
        "sorted_eigenval = eigen_val[sorted_index]\n",
        "sorted_eigenval"
      ],
      "metadata": {
        "colab": {
          "base_uri": "https://localhost:8080/"
        },
        "id": "1qpLx7i4nFh3",
        "outputId": "bda67d0e-c4ce-434e-97b6-d5a56361f9d2"
      },
      "execution_count": null,
      "outputs": [
        {
          "output_type": "execute_result",
          "data": {
            "text/plain": [
              "array([0.56903559, 0.16666667, 0.09763107, 0.        ])"
            ]
          },
          "metadata": {},
          "execution_count": 18
        }
      ]
    },
    {
      "cell_type": "code",
      "source": [
        "sorted_eigenvec = eigen_vec[:,sorted_index]\n",
        "\n",
        "#segundo eje principal\n",
        "segundo_ejep = sorted_eigenvec[:, 1]\n",
        "print(\"El Segundo Eje Principal es:\")\n",
        "segundo_ejep"
      ],
      "metadata": {
        "colab": {
          "base_uri": "https://localhost:8080/"
        },
        "id": "yUqlkdyXmboq",
        "outputId": "c79ae02b-ea2a-4fe8-9826-c40055fee525"
      },
      "execution_count": null,
      "outputs": [
        {
          "output_type": "stream",
          "name": "stdout",
          "text": [
            "El Segundo Eje Principal es:\n"
          ]
        },
        {
          "output_type": "execute_result",
          "data": {
            "text/plain": [
              "array([-0.00000000e+00, -7.07106781e-01,  2.77555756e-16,  7.07106781e-01])"
            ]
          },
          "metadata": {},
          "execution_count": 23
        }
      ]
    },
    {
      "cell_type": "code",
      "source": [
        "# Proyectar de datos originales sobre segundo eje principal\n",
        "proyecc = np.dot(X, segundo_ejep)\n",
        "\n",
        "# coordenadas\n",
        "print(\"Coordenadas sobre el segundo eje principal:\")\n",
        "print(proyecc)"
      ],
      "metadata": {
        "colab": {
          "base_uri": "https://localhost:8080/"
        },
        "id": "fGF_4IDSbI9n",
        "outputId": "beeed544-8d86-4393-ba0b-556f8ec963ee"
      },
      "execution_count": null,
      "outputs": [
        {
          "output_type": "stream",
          "name": "stdout",
          "text": [
            "Coordenadas sobre el segundo eje principal:\n",
            "[ 0.00000000e+00 -7.07106781e-01 -7.07106781e-01  1.66533454e-16]\n"
          ]
        }
      ]
    },
    {
      "cell_type": "markdown",
      "source": [
        "##Ejercicio 6"
      ],
      "metadata": {
        "id": "MfoArMr8_7tj"
      }
    },
    {
      "cell_type": "code",
      "source": [
        "import numpy as np\n",
        "S=np.array([[140.017, 107.881, 139.068, 109.095],\n",
        "    [107.881,106.038,110.0439,82.627],\n",
        "    [139.068,110.0439,168.752,125.136],\n",
        "    [109.095,82.627,125.136,108.60]])\n",
        "X = np.array([[0.969,-0.102,0.194,0.116],\n",
        "             [0.907,-0.392,-0.106,-0.111],\n",
        "              [0.971,0.156,-0.157,0.092],\n",
        "              [0.943,0.252,0.092,-0.196]])\n",
        "\n",
        "#Matriz de covarianzas\n",
        "eigen_valores, eigen_vectores = np.linalg.eigh(S)\n",
        "eigen_valores = eigen_valores[np.argsort(eigen_valores)[::-1]]\n",
        "eigen_vectores = eigen_vectores[:,np.argsort(eigen_valores)[::-1]]\n",
        "cov1=np.dot(eigen_vectores[0],eigen_valores[0])\n",
        "cov2=np.dot(eigen_vectores[1],eigen_valores[1])\n",
        "cov3=np.dot(eigen_vectores[2],eigen_valores[2])\n",
        "cov4=np.dot(eigen_vectores[3],eigen_valores[3])\n",
        "covx= np.array([cov1,cov2,cov3,cov4])\n",
        "covx = covx.reshape(4,4)\n",
        "covx=covx.transpose()\n",
        "\n",
        "r2_1=np.dot((eigen_vectores[0]**2),eigen_valores[0])/S[0][0]\n",
        "r2_2=np.dot((eigen_vectores[1]**2),eigen_valores[1])/S[1][1]\n",
        "r2_3=np.dot((eigen_vectores[2]**2),eigen_valores[2])/S[2][2]\n",
        "r2_4=np.dot((eigen_vectores[3]**2),eigen_valores[3])/S[3][3]\n",
        "r2=np.array([r2_1,r2_2,r2_3,r2_4])\n",
        "r2=r2.transpose()\n",
        "var1= sum(S[i][i]*r2[i][0] for i in range(0,4))\n",
        "var2= sum(S[i][i]*r2[i][1] for i in range(0,4))\n",
        "var3= sum(S[i][i]*r2[i][2] for i in range(0,4))\n",
        "var4= sum(S[i][i]*r2[i][3] for i in range(0,4))\n",
        "var_ec=np.array([var1,var2,var3,var4])\n",
        "print('La varianza empirica de las componentes principales es:')\n",
        "var_ec"
      ],
      "metadata": {
        "id": "Yon2pBX3_-wo",
        "colab": {
          "base_uri": "https://localhost:8080/"
        },
        "outputId": "4655b8f5-d526-46ff-aff5-b747be2fa39d"
      },
      "execution_count": null,
      "outputs": [
        {
          "output_type": "stream",
          "name": "stdout",
          "text": [
            "La varianza empirica de las componentes principales es:\n"
          ]
        },
        {
          "output_type": "execute_result",
          "data": {
            "text/plain": [
              "array([396.38610945,  40.11919419,   8.20636425,  11.04117772])"
            ]
          },
          "metadata": {},
          "execution_count": 1
        }
      ]
    },
    {
      "cell_type": "code",
      "source": [
        "#Ahora para calcular la parte de la varianza de ξ1 explicada por las dos últimas componentes principales\n",
        "VE1= (var_ec[2]+var_ec[3])/np.trace(S)\n",
        "\n",
        "#Y para calcular calcular la parte de la varianza de ξ2 explicada por las dos primeras componentes principales\n",
        "VE2= (var_ec[0]+var_ec[1])/np.trace(S)\n",
        "\n",
        "print(f'La parte de la varianza de ξ1 explicada por las dos últimas componentes principales es: {VE1}')\n",
        "print(f'La parte de la varianza de ξ2 explicada por las dos primeras componentes principales es: {VE2}')"
      ],
      "metadata": {
        "colab": {
          "base_uri": "https://localhost:8080/"
        },
        "id": "G25jpLw07GQI",
        "outputId": "491652ff-5f93-4809-9c62-381434596048"
      },
      "execution_count": null,
      "outputs": [
        {
          "output_type": "stream",
          "name": "stdout",
          "text": [
            "La parte de la varianza de ξ1 explicada por las dos últimas componentes principales es: 0.036773566207830025\n",
            "La parte de la varianza de ξ2 explicada por las dos primeras componentes principales es: 0.8339691743505554\n"
          ]
        }
      ]
    },
    {
      "cell_type": "code",
      "source": [
        "# Proyección de los datos sobre los dos primeros ejes principales\n",
        "sorted_index = np.argsort(eigen_valores)[::-1]\n",
        "sorted_eigenvalores = eigen_valores[sorted_index]\n",
        "sorted_eigenvectores = eigen_vectores[:,sorted_index]\n",
        "\n",
        "#segundo eje principal\n",
        "segundo_ejep = sorted_eigenvectores[:, 1]\n",
        "print(\"El Segundo Eje Principal es:\")\n",
        "segundo_ejep"
      ],
      "metadata": {
        "colab": {
          "base_uri": "https://localhost:8080/"
        },
        "id": "SGe_2W4Asopw",
        "outputId": "dee51c1a-19c0-4ff7-f4fb-983ae550b3f9"
      },
      "execution_count": null,
      "outputs": [
        {
          "output_type": "stream",
          "name": "stdout",
          "text": [
            "El Segundo Eje Principal es:\n"
          ]
        },
        {
          "output_type": "execute_result",
          "data": {
            "text/plain": [
              "array([-0.68108862,  0.33271627,  0.59007269, -0.27790717])"
            ]
          },
          "metadata": {},
          "execution_count": 3
        }
      ]
    },
    {
      "cell_type": "code",
      "source": [
        "proyecc = np.dot(X, segundo_ejep)\n",
        "\n",
        "# coordenadas\n",
        "print(\"Coordenadas sobre el segundo eje principal:\")\n",
        "print(proyecc)"
      ],
      "metadata": {
        "colab": {
          "base_uri": "https://localhost:8080/"
        },
        "id": "-INCUz7YYeY7",
        "outputId": "738f5f0e-fe54-46bd-c703-db07648af2a1"
      },
      "execution_count": null,
      "outputs": [
        {
          "output_type": "stream",
          "name": "stdout",
          "text": [
            "Coordenadas sobre el segundo eje principal:\n",
            "[-0.61167506 -0.77987217 -0.72764218 -0.44966557]\n"
          ]
        }
      ]
    },
    {
      "cell_type": "markdown",
      "source": [],
      "metadata": {
        "id": "D3ObFoFk4ADr"
      }
    },
    {
      "cell_type": "markdown",
      "source": [
        "## Ejercicio 8"
      ],
      "metadata": {
        "id": "qY9covlI4Amx"
      }
    },
    {
      "cell_type": "code",
      "source": [
        "import pandas as pd\n",
        "import numpy as np\n",
        "\n",
        "# Definir los datos\n",
        "hembras = {\n",
        "    'Sex': ['f'] * 24,\n",
        "    'Length': [98, 103, 103, 105, 109, 123, 123, 133, 133, 133, 134, 136, 137, 138, 141, 147, 149, 153, 155, 155, 158, 159, 162, 177],\n",
        "    'Width': [81, 84, 86, 86, 88, 92, 95, 99, 102, 102, 100, 102, 98, 99, 105, 108, 107, 107, 115, 117, 115, 118, 124, 132],\n",
        "    'Height': [38, 38, 42, 40, 44, 50, 46, 51, 51, 51, 48, 49, 51, 51, 53, 57, 55, 56, 63, 60, 62, 63, 61, 67]\n",
        "}\n",
        "# Definir los datos\n",
        "machos = {\n",
        "    'Sex': ['m'] * 24,\n",
        "    'Length': [93, 94, 96, 101, 102, 103, 104, 106, 107, 112, 113, 114, 116, 117, 117, 119, 120, 120, 121, 125, 127, 128, 131, 135],\n",
        "    'Width': [74, 78, 80, 84, 85, 81, 83, 83, 82, 89, 88, 86, 90, 90, 91, 93, 89, 93, 95, 93, 96, 95, 95, 106],\n",
        "    'Height': [37, 35, 35, 39, 38, 37, 39, 39, 38, 40, 40, 40, 43, 41, 41, 41, 40, 44, 42, 45, 45, 45, 46, 47]\n",
        "}\n",
        "\n",
        "dff = pd.DataFrame(hembras)\n",
        "dfm = pd.DataFrame(machos)\n",
        "df1= np.log(dff[['Length', 'Width', 'Height']])\n",
        "df2= np.log(dfm[['Length', 'Width', 'Height']])\n",
        "lognm=df2.values\n",
        "lognf=df1.values\n",
        "datosf=np.array(lognf)\n",
        "datosm=np.array(lognm)\n",
        "vectormediof=datosf-np.mean(datosf,axis=0) #Centramos los datos\n",
        "vectormediom=datosm-np.mean(datosm,axis=0)\n",
        "cov_f=np.cov(vectormediof, rowvar=False)\n",
        "cov_m=np.cov(vectormediom, rowvar=False)\n",
        "eigenvaloresf, eigenvectoresf=np.linalg.eigh(cov_f)\n",
        "eigenvaloresm, eigenvectoresm=np.linalg.eigh(cov_m)\n",
        "evsfW=eigenvaloresf[::-1]\n",
        "evsmW=eigenvaloresm[::-1]\n",
        "evfW=eigenvectoresf[:,np.argsort(eigenvaloresf)[::-1]]\n",
        "evmW=eigenvectoresm[:,np.argsort(eigenvaloresm)[::-1]]\n",
        "n = 3\n",
        "eigenvectorf2 = evfW[:,0:n]\n",
        "eigenvectorm2 = evmW[:,0:n]\n",
        "datosfred=np.dot(eigenvectorf2.transpose(),vectormediof.transpose()).transpose()\n",
        "datosmred=np.dot(eigenvectorm2.transpose(),vectormediom.transpose()).transpose()\n",
        "F=pd.DataFrame(datosfred,columns=['PC1','PC2','PC3'])\n",
        "M=pd.DataFrame(datosmred,columns=['PC1','PC2','PC3'])\n",
        "\n",
        "print(\"PCA Hembras\")\n",
        "print(F)\n",
        "print(\"PCA Machos\")\n",
        "print(M)\n"
      ],
      "metadata": {
        "id": "hT0KHbC64Dsi",
        "colab": {
          "base_uri": "https://localhost:8080/"
        },
        "outputId": "55a31e05-4c8e-4c74-b306-b904627f8690"
      },
      "execution_count": null,
      "outputs": [
        {
          "output_type": "stream",
          "name": "stdout",
          "text": [
            "PCA Hembras\n",
            "         PC1       PC2       PC3\n",
            "0   0.491814  0.001752  0.013430\n",
            "1   0.443245 -0.036014  0.009742\n",
            "2   0.370284  0.033017  0.031693\n",
            "3   0.388332 -0.014156  0.017578\n",
            "4   0.295304  0.034322  0.015118\n",
            "5   0.119952  0.061507 -0.022715\n",
            "6   0.155715 -0.017488 -0.001199\n",
            "7   0.023633  0.011044 -0.015271\n",
            "8   0.009182 -0.001364  0.007716\n",
            "9   0.009182 -0.001364  0.007716\n",
            "10  0.051403 -0.044282 -0.014624\n",
            "11  0.019913 -0.043019 -0.008021\n",
            "12  0.010109  0.001775 -0.041960\n",
            "13  0.000669 -0.005755 -0.038774\n",
            "14 -0.064861 -0.009709 -0.005690\n",
            "15 -0.149190  0.016908 -0.007752\n",
            "16 -0.131123 -0.013503 -0.024889\n",
            "17 -0.158693 -0.011372 -0.041070\n",
            "18 -0.274136  0.045496  0.010689\n",
            "19 -0.252467 -0.000089  0.022098\n",
            "20 -0.276222  0.024171 -0.002132\n",
            "21 -0.302457  0.023196  0.014292\n",
            "22 -0.318250 -0.031330  0.039344\n",
            "23 -0.461335 -0.023745  0.034681\n",
            "PCA Machos\n",
            "         PC1       PC2       PC3\n",
            "0   0.268473  0.061069 -0.000407\n",
            "1   0.263345 -0.015724  0.006686\n",
            "2   0.236046 -0.034121  0.007428\n",
            "3   0.119923  0.014125  0.036692\n",
            "4   0.120728 -0.014957  0.028605\n",
            "5   0.152593 -0.008908 -0.016979\n",
            "6   0.106039  0.016571  0.008383\n",
            "7   0.093027  0.013533 -0.005193\n",
            "8   0.106371 -0.001245 -0.027850\n",
            "9   0.006575 -0.016744  0.007189\n",
            "10  0.006268 -0.011450 -0.006174\n",
            "11  0.011980  0.000801 -0.026752\n",
            "12 -0.060887  0.028047  0.012590\n",
            "13 -0.041863 -0.010877 -0.008979\n",
            "14 -0.047501 -0.017440 -0.002106\n",
            "15 -0.070171 -0.033057 -0.000665\n",
            "16 -0.040554 -0.027747 -0.041982\n",
            "17 -0.112788  0.021289  0.016280\n",
            "18 -0.105005 -0.029354  0.008508\n",
            "19 -0.152417  0.032499 -0.005524\n",
            "20 -0.179459  0.011108  0.002909\n",
            "21 -0.179474  0.016077 -0.009193\n",
            "22 -0.206784  0.029713 -0.018574\n",
            "23 -0.294468 -0.023208  0.035109\n"
          ]
        }
      ]
    },
    {
      "cell_type": "code",
      "source": [
        "VolF=np.sum(datosf,axis=1)\n",
        "VolM=np.sum(datosm, axis=1)\n",
        "print(\"Volumen tortugas hembra\")\n",
        "print(VolF)\n",
        "print(\"Volumen tortugas macho\")\n",
        "print(VolM)"
      ],
      "metadata": {
        "id": "2yJSA-rc8siG",
        "colab": {
          "base_uri": "https://localhost:8080/"
        },
        "outputId": "457a2deb-05cb-400f-acc8-4d527d564a36"
      },
      "execution_count": null,
      "outputs": [
        {
          "output_type": "stream",
          "name": "stdout",
          "text": [
            "Volumen tortugas hembra\n",
            "[12.61700279 12.70313195 12.8267459  12.7971871  12.95287433 13.24599594\n",
            " 13.19470264 13.41729461 13.44714757 13.44714757 13.374211   13.429448\n",
            " 13.43677404 13.45419917 13.57301215 13.71561508 13.68410833 13.72861845\n",
            " 13.93149197 13.89994361 13.93466155 13.98272355 14.01875177 14.26364427]\n",
            "Volumen tortugas macho\n",
            "[12.4475825  12.45535167 12.50172289 12.70949896 12.70521023 12.64009606\n",
            " 12.72679315 12.74584135 12.71713424 12.8960147  12.89360409 12.8794252\n",
            " 13.01459998 12.97555567 12.98660551 13.02529505 12.96500757 13.10428087\n",
            " 13.08733706 13.16757572 13.21519777 13.21256965 13.25771561 13.41886147]\n"
          ]
        }
      ]
    }
  ]
}