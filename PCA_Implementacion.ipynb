{
  "nbformat": 4,
  "nbformat_minor": 0,
  "metadata": {
    "colab": {
      "provenance": []
    },
    "kernelspec": {
      "name": "python3",
      "display_name": "Python 3"
    },
    "language_info": {
      "name": "python"
    }
  },
  "cells": [
    {
      "cell_type": "markdown",
      "source": [
        "# Implementación de PCA\n",
        "\n",
        "Recordemos que dado un vector aleatorio $X=(X_{1},\\dots, X_{n})$ con $\\Sigma_{X}$ su matriz de covarianza (que supondremos no degenerada), podemos definir la $j$-ésima componente principal de $X$ como\n",
        "$$\\xi_{j}=b_{j}\\bullet X,$$\n",
        "en dónde $b_{j}=(b_{j1},\\dots, b_{jn})$ es un vector en $\\mathbb{R}^{n}$ que se elige de acuerdo al siguiente problema de optimización:\n",
        "\n",
        "$$\\begin{align}\n",
        "\\max \\text{Var}(\\xi_{j})&=b_{j}\\bullet\\Sigma_{X}\\bullet b_{j}\\\\\n",
        "\\text{sujeta a}&\\\\\n",
        "||b_{j}||&=1 \\quad \\text{y} \\quad b_{i}\\bullet b_{j}=0 \\ \\ \\forall i>j\\geq 1.\n",
        "\\end{align}$$\n",
        "\n",
        "**Teorema.-** Sea $X=(X_{1},\\dots, X_{n})$ un vector aleatorio y sea $\\Sigma_{X}$ su matriz de covarianza. Entonces, el problema de optimización para el sistema de ecuaciones $\\{\\xi_{j}\\}_{j=1}^{p}$ tiene la siguiente solución:\n",
        "\n",
        "\n",
        "1.   Descomponemos espectralmente a la matriz $Σ_{X}$ como $Σ_{X}=Q\\Lambda Q^{-1}$, en donde $\\Lambda=\\text{diag}(\\lambda_{1},\\dots, \\lambda_{n})$ con $\\lambda_{i}\\in Spec(Σ_{X})$ y $Q$ se forma a través de las eigenparejas $(λ_{i},b_{i})$.\n",
        "2.   Ordenamos los eigenvalores de manera decreciente:\n",
        "$$λ_{1}\\geq\\lambda_{2}\\geq \\cdots \\geq λ_{n}$$\n",
        "\n"
      ],
      "metadata": {
        "id": "ywUraKT7sbCy"
      }
    },
    {
      "cell_type": "markdown",
      "source": [
        "Aplicaremos el teorema anterior para dar una implementación del PCA usando datos sintéticos. Luego, aplicaremos nuestro resultado a la base de datos Iris de Fisher."
      ],
      "metadata": {
        "id": "5cDrq9wIr-VG"
      }
    },
    {
      "cell_type": "code",
      "source": [
        "# Cómo crear datos sintéticos y matrices\n",
        "\n",
        "import numpy as np\n",
        "\n",
        "X = np.random.randint(10, 50, 100)\n",
        "X"
      ],
      "metadata": {
        "id": "O0ZTd3r2sIHJ",
        "colab": {
          "base_uri": "https://localhost:8080/"
        },
        "outputId": "de0193e2-ff69-448e-a394-44dfea39dd45"
      },
      "execution_count": null,
      "outputs": [
        {
          "output_type": "execute_result",
          "data": {
            "text/plain": [
              "array([45, 36, 22, 25, 34, 22, 21, 17, 20, 48, 36, 20, 34, 42, 28, 16, 19,\n",
              "       10, 19, 14, 16, 19, 27, 30, 32, 10, 28, 30, 13, 42, 25, 23, 44, 38,\n",
              "       16, 14, 41, 32, 22, 32, 39, 20, 31, 35, 27, 27, 34, 40, 40, 14, 21,\n",
              "       36, 33, 31, 15, 27, 31, 22, 44, 12, 21, 26, 46, 20, 39, 33, 32, 41,\n",
              "       38, 12, 42, 11, 14, 25, 34, 27, 14, 13, 20, 30, 41, 46, 26, 47, 10,\n",
              "       16, 35, 13, 41, 26, 40, 15, 26, 22, 40, 27, 49, 24, 36, 41])"
            ]
          },
          "metadata": {},
          "execution_count": 4
        }
      ]
    },
    {
      "cell_type": "code",
      "source": [
        "X.ndim"
      ],
      "metadata": {
        "colab": {
          "base_uri": "https://localhost:8080/"
        },
        "id": "NrWoICUFfmXU",
        "outputId": "5e355be4-508c-4d54-d2d0-a32646764859"
      },
      "execution_count": null,
      "outputs": [
        {
          "output_type": "execute_result",
          "data": {
            "text/plain": [
              "1"
            ]
          },
          "metadata": {},
          "execution_count": 7
        }
      ]
    },
    {
      "cell_type": "code",
      "source": [
        "X.shape"
      ],
      "metadata": {
        "colab": {
          "base_uri": "https://localhost:8080/"
        },
        "id": "vrLrW5WKgrKc",
        "outputId": "bce53684-e21d-4d72-e5d5-662c03ce7eb7"
      },
      "execution_count": null,
      "outputs": [
        {
          "output_type": "execute_result",
          "data": {
            "text/plain": [
              "(100,)"
            ]
          },
          "metadata": {},
          "execution_count": 9
        }
      ]
    },
    {
      "cell_type": "code",
      "source": [
        "# Se calcula la media del vector\n",
        "\n",
        "np.mean(X)"
      ],
      "metadata": {
        "colab": {
          "base_uri": "https://localhost:8080/"
        },
        "id": "eHvSBNzXtOwC",
        "outputId": "f3a41706-4c26-46ca-930d-207acea7b589"
      },
      "execution_count": null,
      "outputs": [
        {
          "output_type": "execute_result",
          "data": {
            "text/plain": [
              "28.0"
            ]
          },
          "metadata": {},
          "execution_count": 5
        }
      ]
    },
    {
      "cell_type": "code",
      "source": [
        "# Creamos una matriz a partir del arreglo anterior\n",
        "\n",
        "Y = X.reshape(20,5)\n",
        "Y"
      ],
      "metadata": {
        "id": "_L5-5EHGuFMP",
        "colab": {
          "base_uri": "https://localhost:8080/"
        },
        "outputId": "4c310f3d-d61c-4611-baee-06d18fa07e27"
      },
      "execution_count": null,
      "outputs": [
        {
          "output_type": "execute_result",
          "data": {
            "text/plain": [
              "array([[45, 36, 22, 25, 34],\n",
              "       [22, 21, 17, 20, 48],\n",
              "       [36, 20, 34, 42, 28],\n",
              "       [16, 19, 10, 19, 14],\n",
              "       [16, 19, 27, 30, 32],\n",
              "       [10, 28, 30, 13, 42],\n",
              "       [25, 23, 44, 38, 16],\n",
              "       [14, 41, 32, 22, 32],\n",
              "       [39, 20, 31, 35, 27],\n",
              "       [27, 34, 40, 40, 14],\n",
              "       [21, 36, 33, 31, 15],\n",
              "       [27, 31, 22, 44, 12],\n",
              "       [21, 26, 46, 20, 39],\n",
              "       [33, 32, 41, 38, 12],\n",
              "       [42, 11, 14, 25, 34],\n",
              "       [27, 14, 13, 20, 30],\n",
              "       [41, 46, 26, 47, 10],\n",
              "       [16, 35, 13, 41, 26],\n",
              "       [40, 15, 26, 22, 40],\n",
              "       [27, 49, 24, 36, 41]])"
            ]
          },
          "metadata": {},
          "execution_count": 6
        }
      ]
    },
    {
      "cell_type": "code",
      "source": [
        "np.mean(Y, axis = 0) # Calcula la media por columnas y las muestra en un arreglo"
      ],
      "metadata": {
        "colab": {
          "base_uri": "https://localhost:8080/"
        },
        "id": "mvBFdMPtuNu0",
        "outputId": "ee1c458d-1211-48b8-9e48-adbe9dc4b7c3"
      },
      "execution_count": null,
      "outputs": [
        {
          "output_type": "execute_result",
          "data": {
            "text/plain": [
              "array([29.25, 30.6 , 28.95, 30.6 , 31.25])"
            ]
          },
          "metadata": {},
          "execution_count": 35
        }
      ]
    },
    {
      "cell_type": "code",
      "source": [
        "np.mean(Y, axis = 1) # Calcula la media por renglones y las muestra en un arreglo"
      ],
      "metadata": {
        "colab": {
          "base_uri": "https://localhost:8080/"
        },
        "id": "y_nRIcdpuVms",
        "outputId": "630def44-21dc-45c9-dfe8-c86e13c8ed23"
      },
      "execution_count": null,
      "outputs": [
        {
          "output_type": "execute_result",
          "data": {
            "text/plain": [
              "array([38.6, 30.4, 29. , 32.2, 33.4, 38.2, 30.2, 32. , 29.6, 19.4, 24. ,\n",
              "       32. , 24.4, 20.2, 37.6, 25.4, 34. , 30.6, 29.8, 31.6])"
            ]
          },
          "metadata": {},
          "execution_count": 36
        }
      ]
    },
    {
      "cell_type": "markdown",
      "source": [
        "### Preprocesamiento de datos"
      ],
      "metadata": {
        "id": "LKJxooK7iHgo"
      }
    },
    {
      "cell_type": "code",
      "source": [
        "# Centramos a los datos\n",
        "\n",
        "Y_media = Y - np.mean(Y, axis = 0)\n",
        "Y_media"
      ],
      "metadata": {
        "id": "jGDaDrrUuoX1",
        "colab": {
          "base_uri": "https://localhost:8080/"
        },
        "outputId": "901f9adb-f2d1-4e1f-a6a8-bbb0d014200e"
      },
      "execution_count": null,
      "outputs": [
        {
          "output_type": "execute_result",
          "data": {
            "text/plain": [
              "array([[ 17.75,   8.2 ,  -5.25,  -5.4 ,   6.7 ],\n",
              "       [ -5.25,  -6.8 , -10.25, -10.4 ,  20.7 ],\n",
              "       [  8.75,  -7.8 ,   6.75,  11.6 ,   0.7 ],\n",
              "       [-11.25,  -8.8 , -17.25, -11.4 , -13.3 ],\n",
              "       [-11.25,  -8.8 ,  -0.25,  -0.4 ,   4.7 ],\n",
              "       [-17.25,   0.2 ,   2.75, -17.4 ,  14.7 ],\n",
              "       [ -2.25,  -4.8 ,  16.75,   7.6 , -11.3 ],\n",
              "       [-13.25,  13.2 ,   4.75,  -8.4 ,   4.7 ],\n",
              "       [ 11.75,  -7.8 ,   3.75,   4.6 ,  -0.3 ],\n",
              "       [ -0.25,   6.2 ,  12.75,   9.6 , -13.3 ],\n",
              "       [ -6.25,   8.2 ,   5.75,   0.6 , -12.3 ],\n",
              "       [ -0.25,   3.2 ,  -5.25,  13.6 , -15.3 ],\n",
              "       [ -6.25,  -1.8 ,  18.75, -10.4 ,  11.7 ],\n",
              "       [  5.75,   4.2 ,  13.75,   7.6 , -15.3 ],\n",
              "       [ 14.75, -16.8 , -13.25,  -5.4 ,   6.7 ],\n",
              "       [ -0.25, -13.8 , -14.25, -10.4 ,   2.7 ],\n",
              "       [ 13.75,  18.2 ,  -1.25,  16.6 , -17.3 ],\n",
              "       [-11.25,   7.2 , -14.25,  10.6 ,  -1.3 ],\n",
              "       [ 12.75, -12.8 ,  -1.25,  -8.4 ,  12.7 ],\n",
              "       [ -0.25,  21.2 ,  -3.25,   5.6 ,  13.7 ]])"
            ]
          },
          "metadata": {},
          "execution_count": 10
        }
      ]
    },
    {
      "cell_type": "code",
      "source": [
        "# Matriz de covarianza\n",
        "\n",
        "S = np.cov(Y_media, rowvar = False)\n",
        "\n",
        "print(S)"
      ],
      "metadata": {
        "colab": {
          "base_uri": "https://localhost:8080/"
        },
        "id": "0u1wo6I-vEBR",
        "outputId": "132ad51d-060d-462b-ede8-4d1f8701e73e"
      },
      "execution_count": null,
      "outputs": [
        {
          "output_type": "stream",
          "name": "stdout",
          "text": [
            "[[110.30263158 -11.05263158  -1.43421053  34.94736842 -11.81578947]\n",
            " [-11.05263158 115.43157895  24.          44.76842105 -29.35789474]\n",
            " [ -1.43421053  24.         113.67105263  24.78947368 -23.18421053]\n",
            " [ 34.94736842  44.76842105  24.78947368 101.30526316 -76.44210526]\n",
            " [-11.81578947 -29.35789474 -23.18421053 -76.44210526 140.74736842]]\n"
          ]
        }
      ]
    },
    {
      "cell_type": "code",
      "source": [
        "# Vamos a calcular eigenvalores y eigenvectores\n",
        "\n",
        "eigen_val, eigen_vec = np.linalg.eigh(S)"
      ],
      "metadata": {
        "id": "yas4Wi1YvyIX"
      },
      "execution_count": null,
      "outputs": []
    },
    {
      "cell_type": "code",
      "source": [
        "eigen_val"
      ],
      "metadata": {
        "colab": {
          "base_uri": "https://localhost:8080/"
        },
        "id": "M0RSTdV3w1yK",
        "outputId": "42c41920-e3d9-403d-d460-11a8e0f80295"
      },
      "execution_count": null,
      "outputs": [
        {
          "output_type": "execute_result",
          "data": {
            "text/plain": [
              "array([ 28.66020457,  86.34625973,  96.98872063, 128.18536156,\n",
              "       241.27734826])"
            ]
          },
          "metadata": {},
          "execution_count": 14
        }
      ]
    },
    {
      "cell_type": "code",
      "source": [
        "# Accesos\n",
        "\n",
        "eigen_val[::-1]\n"
      ],
      "metadata": {
        "colab": {
          "base_uri": "https://localhost:8080/"
        },
        "id": "bUUzdhhVxzXq",
        "outputId": "ebf4d1cf-b996-4396-b6f2-8cbfae5255d5"
      },
      "execution_count": null,
      "outputs": [
        {
          "output_type": "execute_result",
          "data": {
            "text/plain": [
              "array([241.27734826, 128.18536156,  96.98872063,  86.34625973,\n",
              "        28.66020457])"
            ]
          },
          "metadata": {},
          "execution_count": 15
        }
      ]
    },
    {
      "cell_type": "code",
      "source": [
        "# Reescribimos a los eigenvalores de manera decreciente\n",
        "\n",
        "eigen_val = eigen_val[np.argsort(eigen_val)[::-1]]\n",
        "\n",
        "eigen_val"
      ],
      "metadata": {
        "colab": {
          "base_uri": "https://localhost:8080/"
        },
        "id": "twAwyeQBxB06",
        "outputId": "91493366-2d7a-42cc-e2fb-3476586bfcfd"
      },
      "execution_count": null,
      "outputs": [
        {
          "output_type": "execute_result",
          "data": {
            "text/plain": [
              "array([241.27734826, 128.18536156,  96.98872063,  86.34625973,\n",
              "        28.66020457])"
            ]
          },
          "metadata": {},
          "execution_count": 16
        }
      ]
    },
    {
      "cell_type": "code",
      "source": [
        "eigen_vec = eigen_vec[:,np.argsort(eigen_val)[::-1]]\n",
        "\n",
        "eigen_vec"
      ],
      "metadata": {
        "colab": {
          "base_uri": "https://localhost:8080/"
        },
        "id": "eaJkEtF4xhoi",
        "outputId": "c2489283-1ec4-4495-e192-36d2bbffa280"
      },
      "execution_count": null,
      "outputs": [
        {
          "output_type": "execute_result",
          "data": {
            "text/plain": [
              "array([[-0.51323607, -0.22161799,  0.78605086, -0.26379812,  0.00296669],\n",
              "       [-0.60530793, -0.19408686, -0.24627123,  0.6114121 ,  0.40181878],\n",
              "       [-0.05875522,  0.51897819,  0.30623606,  0.58474937, -0.53990473],\n",
              "       [-0.03242531, -0.71196258, -0.18333702,  0.10739291, -0.66851491],\n",
              "       [ 0.60472099, -0.37011712,  0.44054686,  0.45068918,  0.31642308]])"
            ]
          },
          "metadata": {},
          "execution_count": 43
        }
      ]
    },
    {
      "cell_type": "code",
      "source": [
        "n_components = 2\n",
        "eigenvector_2 = eigen_vec[:,0:n_components]"
      ],
      "metadata": {
        "id": "PKfSyrABKdv1"
      },
      "execution_count": null,
      "outputs": []
    },
    {
      "cell_type": "code",
      "source": [
        "# Descomposición espectral\n",
        "\n",
        "Y_red = np.dot(eigenvector_2.transpose(),Y_media.transpose()).transpose()\n",
        "\n",
        "\n",
        "Y_red"
      ],
      "metadata": {
        "colab": {
          "base_uri": "https://localhost:8080/"
        },
        "id": "6gHe3ln6KrTa",
        "outputId": "582fbb3d-36d0-40b4-8038-922c2989251b"
      },
      "execution_count": null,
      "outputs": [
        {
          "output_type": "execute_result",
          "data": {
            "text/plain": [
              "array([[-11.2199911 , -10.96911078],\n",
              "       [ -5.98778071,  -1.89544734],\n",
              "       [ -6.31196943,  13.38910019],\n",
              "       [  8.16571358,   2.41943758],\n",
              "       [ -5.02171911, -14.34360577],\n",
              "       [  8.03589009,  -2.76902199],\n",
              "       [  6.574672  , -17.17951324],\n",
              "       [ -8.39689461,   2.77641029],\n",
              "       [ -1.08973548,  -5.60548179],\n",
              "       [ -0.2710719 ,   6.91119961],\n",
              "       [ -2.78432951,  25.11489889],\n",
              "       [  7.76889762,  -8.31744331],\n",
              "       [ -2.58878852,  -1.1429342 ],\n",
              "       [  4.56830517,  -5.28535861],\n",
              "       [ -7.89095502,   0.52491273],\n",
              "       [  4.58776383,  12.74940158],\n",
              "       [ -3.90480262,  -3.21524009],\n",
              "       [ 16.19862558,   1.42650227],\n",
              "       [ -4.13227923,  -7.44035946],\n",
              "       [  3.70044936,  12.85165343]])"
            ]
          },
          "metadata": {},
          "execution_count": 45
        }
      ]
    },
    {
      "cell_type": "markdown",
      "source": [
        "## La parte de la varianza explicada\n",
        "\n",
        "**Definición.-** Llamamos a la parte de la varianza total de $X$ explicada por las primeras $k$ componentes principales $(\\xi_{1},\\dots, \\xi_{k})_{k< p}$ a la cantidad:\n",
        "$$\\frac{λ_{1}+\\cdots +λ_{k}}{\\text{Tr}(Σ_{X})}.$$\n",
        "\n",
        "Denotamos por $\\rho_{ij}=\\text{Corr}(\\xi_{i},X_{i})$. Llamaremos a $\\rho_{ij}^{2}$ la parte de la varianza de la variable $X_{i}$ explicada por la $j$-ésima componente principal $\\xi_{j}$."
      ],
      "metadata": {
        "id": "qoNE1cYMvYxF"
      }
    },
    {
      "cell_type": "markdown",
      "source": [],
      "metadata": {
        "id": "yrcSDlJLXB1M"
      }
    },
    {
      "cell_type": "code",
      "source": [
        "# Información total\n",
        "\n",
        "eigen_val_total = sum(eigen_val)\n",
        "\n",
        "varianza_explicada = [(i/ eigen_val_total )*100 for i in eigen_val ]\n",
        "\n",
        "varianza_explicada = np.round(varianza_explicada, 2)\n",
        "\n",
        "varianza_explicada_acumulada = np.cumsum(varianza_explicada)\n",
        "\n",
        "print(\"Varianza explicada: {}\".format(varianza_explicada))\n",
        "\n",
        "print(\"Varianza explicada acumulada: {}\".format(varianza_explicada_acumulada))"
      ],
      "metadata": {
        "colab": {
          "base_uri": "https://localhost:8080/"
        },
        "id": "FTqM3YAbgHB-",
        "outputId": "8768d6c9-f5f5-4615-9a79-3837ef2525e1"
      },
      "execution_count": null,
      "outputs": [
        {
          "output_type": "stream",
          "name": "stdout",
          "text": [
            "Varianza explicada: [28.32 25.24 22.42 16.31  7.72]\n",
            "Varianza explicada acumulada: [ 28.32  53.56  75.98  92.29 100.01]\n"
          ]
        }
      ]
    },
    {
      "cell_type": "code",
      "source": [
        "# Escribimos lo anterior como función\n",
        "def PCA(X , num_componentes):\n",
        "\n",
        "    X_media = X - np.mean(X , axis = 0)\n",
        "\n",
        "    cov_mat = np.cov(X_media , rowvar = False)\n",
        "\n",
        "    eigen_val , eigen_vec = np.linalg.eigh(cov_mat)\n",
        "\n",
        "    sorted_index = np.argsort(eigen_val)[::-1]\n",
        "    sorted_eigenval = eigen_val[sorted_index]\n",
        "    sorted_eigenvec = eigen_vec[:,sorted_index]\n",
        "\n",
        "    eigenvector_ = sorted_eigenvec[:,0:num_componentes]\n",
        "\n",
        "    X_red = np.dot(eigenvector_.transpose() , X_media.transpose() ).transpose()\n",
        "\n",
        "    return X_red"
      ],
      "metadata": {
        "id": "zD6dKku0bNcP"
      },
      "execution_count": null,
      "outputs": []
    },
    {
      "cell_type": "markdown",
      "source": [
        "Analicemos la influencia de la componente principal $\\xi_{j}$ sobre la variable $X_i$.\n",
        "\n",
        "Se tienen las siguientes propiedades:\n",
        "\n",
        "1.   $\\text{Cov}(X_i,\\xi_j)=$\n",
        "2.   $\\widetilde{\\rho}_{ij}=\\text{Corr}(X_i,\\xi_j)=$\n",
        "3.   $\\sum_{i=1}^{p}\\widetilde{\\rho}_{i1}^2 =1$\n",
        "\n"
      ],
      "metadata": {
        "id": "FpkedL1-CL2Y"
      }
    },
    {
      "cell_type": "markdown",
      "source": [
        "**Proposición.** Sean $X_i$ y $X_j$ dos variables enteramente explicadas por las dos primeras componentes principales. Entonces,\n",
        "$$\\text{Corr}(X_i,X_j)=\\cos(\\phi)$$\n",
        "en donde $\\phi$ es el ángulo formado por los vectores $(\\widetilde{\\rho}_{i1},\\widetilde{\\rho}_{i2})$ y $(\\widetilde{\\rho}_{k1},\\widetilde{\\rho}_{k2})$."
      ],
      "metadata": {
        "id": "_ROi-1p6KM0W"
      }
    },
    {
      "cell_type": "markdown",
      "source": [
        "Por lo tanto, si las variables $X_{i}$ y $X_{k}$ están enteramente explicadaspor las dos primeras componentes principales, el ángulo $φ$ describe la dependencia mutua de tales variables. En efecto, si el $φ=0$, entonces $\\text{Corr}(X_{i},X_{j})=1$, esto significa que:\n",
        "$$∃ \\ a>0, \\ b\\in \\mathbb{R} \\ \\text{tales que} \\ \\ X_{j}=aX_{k}+b.$$\n",
        "\n",
        "Similarmente, si $φ=\\pi/2$, las variables $X_{i}$ y $X_{k}$ son no correlacionadas."
      ],
      "metadata": {
        "id": "ufcmWlH6Nodl"
      }
    },
    {
      "cell_type": "markdown",
      "source": [
        "## PCA con sklearn"
      ],
      "metadata": {
        "id": "wZAXS1_t8-h7"
      }
    },
    {
      "cell_type": "code",
      "source": [
        "import pandas as pd\n",
        "\n",
        "# Datos de Iris de Fisher\n",
        "url = \"https://archive.ics.uci.edu/ml/machine-learning-databases/iris/iris.data\"\n",
        "data = pd.read_csv(url, names=['sepal length','sepal width','petal length','petal width','target'])\n",
        "\n",
        "#se preparan los datos\n",
        "x = data.iloc[:,0:4]\n",
        "\n",
        "target = data.iloc[:,4]\n",
        "\n",
        "# Aplicamos PCA a los datos elegidos\n",
        "mat_red = PCA(x , 2)\n",
        "\n",
        "# Tabla que muestra a las dos componentes principales\n",
        "principal_df = pd.DataFrame(mat_red , columns = ['PC1','PC2'])\n",
        "\n",
        "\n",
        "principal_df = pd.concat([principal_df , pd.DataFrame(target)] , axis = 1)"
      ],
      "metadata": {
        "id": "X-HMIZQgK4nq"
      },
      "execution_count": null,
      "outputs": []
    },
    {
      "cell_type": "code",
      "source": [
        "principal_df"
      ],
      "metadata": {
        "colab": {
          "base_uri": "https://localhost:8080/",
          "height": 447
        },
        "id": "YKcFGEEGb5tw",
        "outputId": "8fc162c2-5efa-4e8b-dc04-e8b0c9eb6255"
      },
      "execution_count": null,
      "outputs": [
        {
          "output_type": "execute_result",
          "data": {
            "text/plain": [
              "          PC1       PC2          target\n",
              "0    2.684207  0.326607     Iris-setosa\n",
              "1    2.715391 -0.169557     Iris-setosa\n",
              "2    2.889820 -0.137346     Iris-setosa\n",
              "3    2.746437 -0.311124     Iris-setosa\n",
              "4    2.728593  0.333925     Iris-setosa\n",
              "..        ...       ...             ...\n",
              "145 -1.944017  0.187415  Iris-virginica\n",
              "146 -1.525664 -0.375021  Iris-virginica\n",
              "147 -1.764046  0.078519  Iris-virginica\n",
              "148 -1.901629  0.115877  Iris-virginica\n",
              "149 -1.389666 -0.282887  Iris-virginica\n",
              "\n",
              "[150 rows x 3 columns]"
            ],
            "text/html": [
              "\n",
              "  <div id=\"df-684b74c1-53e4-4e93-be08-15a71bdddd3f\">\n",
              "    <div class=\"colab-df-container\">\n",
              "      <div>\n",
              "<style scoped>\n",
              "    .dataframe tbody tr th:only-of-type {\n",
              "        vertical-align: middle;\n",
              "    }\n",
              "\n",
              "    .dataframe tbody tr th {\n",
              "        vertical-align: top;\n",
              "    }\n",
              "\n",
              "    .dataframe thead th {\n",
              "        text-align: right;\n",
              "    }\n",
              "</style>\n",
              "<table border=\"1\" class=\"dataframe\">\n",
              "  <thead>\n",
              "    <tr style=\"text-align: right;\">\n",
              "      <th></th>\n",
              "      <th>PC1</th>\n",
              "      <th>PC2</th>\n",
              "      <th>target</th>\n",
              "    </tr>\n",
              "  </thead>\n",
              "  <tbody>\n",
              "    <tr>\n",
              "      <th>0</th>\n",
              "      <td>2.684207</td>\n",
              "      <td>0.326607</td>\n",
              "      <td>Iris-setosa</td>\n",
              "    </tr>\n",
              "    <tr>\n",
              "      <th>1</th>\n",
              "      <td>2.715391</td>\n",
              "      <td>-0.169557</td>\n",
              "      <td>Iris-setosa</td>\n",
              "    </tr>\n",
              "    <tr>\n",
              "      <th>2</th>\n",
              "      <td>2.889820</td>\n",
              "      <td>-0.137346</td>\n",
              "      <td>Iris-setosa</td>\n",
              "    </tr>\n",
              "    <tr>\n",
              "      <th>3</th>\n",
              "      <td>2.746437</td>\n",
              "      <td>-0.311124</td>\n",
              "      <td>Iris-setosa</td>\n",
              "    </tr>\n",
              "    <tr>\n",
              "      <th>4</th>\n",
              "      <td>2.728593</td>\n",
              "      <td>0.333925</td>\n",
              "      <td>Iris-setosa</td>\n",
              "    </tr>\n",
              "    <tr>\n",
              "      <th>...</th>\n",
              "      <td>...</td>\n",
              "      <td>...</td>\n",
              "      <td>...</td>\n",
              "    </tr>\n",
              "    <tr>\n",
              "      <th>145</th>\n",
              "      <td>-1.944017</td>\n",
              "      <td>0.187415</td>\n",
              "      <td>Iris-virginica</td>\n",
              "    </tr>\n",
              "    <tr>\n",
              "      <th>146</th>\n",
              "      <td>-1.525664</td>\n",
              "      <td>-0.375021</td>\n",
              "      <td>Iris-virginica</td>\n",
              "    </tr>\n",
              "    <tr>\n",
              "      <th>147</th>\n",
              "      <td>-1.764046</td>\n",
              "      <td>0.078519</td>\n",
              "      <td>Iris-virginica</td>\n",
              "    </tr>\n",
              "    <tr>\n",
              "      <th>148</th>\n",
              "      <td>-1.901629</td>\n",
              "      <td>0.115877</td>\n",
              "      <td>Iris-virginica</td>\n",
              "    </tr>\n",
              "    <tr>\n",
              "      <th>149</th>\n",
              "      <td>-1.389666</td>\n",
              "      <td>-0.282887</td>\n",
              "      <td>Iris-virginica</td>\n",
              "    </tr>\n",
              "  </tbody>\n",
              "</table>\n",
              "<p>150 rows × 3 columns</p>\n",
              "</div>\n",
              "      <button class=\"colab-df-convert\" onclick=\"convertToInteractive('df-684b74c1-53e4-4e93-be08-15a71bdddd3f')\"\n",
              "              title=\"Convert this dataframe to an interactive table.\"\n",
              "              style=\"display:none;\">\n",
              "        \n",
              "  <svg xmlns=\"http://www.w3.org/2000/svg\" height=\"24px\"viewBox=\"0 0 24 24\"\n",
              "       width=\"24px\">\n",
              "    <path d=\"M0 0h24v24H0V0z\" fill=\"none\"/>\n",
              "    <path d=\"M18.56 5.44l.94 2.06.94-2.06 2.06-.94-2.06-.94-.94-2.06-.94 2.06-2.06.94zm-11 1L8.5 8.5l.94-2.06 2.06-.94-2.06-.94L8.5 2.5l-.94 2.06-2.06.94zm10 10l.94 2.06.94-2.06 2.06-.94-2.06-.94-.94-2.06-.94 2.06-2.06.94z\"/><path d=\"M17.41 7.96l-1.37-1.37c-.4-.4-.92-.59-1.43-.59-.52 0-1.04.2-1.43.59L10.3 9.45l-7.72 7.72c-.78.78-.78 2.05 0 2.83L4 21.41c.39.39.9.59 1.41.59.51 0 1.02-.2 1.41-.59l7.78-7.78 2.81-2.81c.8-.78.8-2.07 0-2.86zM5.41 20L4 18.59l7.72-7.72 1.47 1.35L5.41 20z\"/>\n",
              "  </svg>\n",
              "      </button>\n",
              "      \n",
              "  <style>\n",
              "    .colab-df-container {\n",
              "      display:flex;\n",
              "      flex-wrap:wrap;\n",
              "      gap: 12px;\n",
              "    }\n",
              "\n",
              "    .colab-df-convert {\n",
              "      background-color: #E8F0FE;\n",
              "      border: none;\n",
              "      border-radius: 50%;\n",
              "      cursor: pointer;\n",
              "      display: none;\n",
              "      fill: #1967D2;\n",
              "      height: 32px;\n",
              "      padding: 0 0 0 0;\n",
              "      width: 32px;\n",
              "    }\n",
              "\n",
              "    .colab-df-convert:hover {\n",
              "      background-color: #E2EBFA;\n",
              "      box-shadow: 0px 1px 2px rgba(60, 64, 67, 0.3), 0px 1px 3px 1px rgba(60, 64, 67, 0.15);\n",
              "      fill: #174EA6;\n",
              "    }\n",
              "\n",
              "    [theme=dark] .colab-df-convert {\n",
              "      background-color: #3B4455;\n",
              "      fill: #D2E3FC;\n",
              "    }\n",
              "\n",
              "    [theme=dark] .colab-df-convert:hover {\n",
              "      background-color: #434B5C;\n",
              "      box-shadow: 0px 1px 3px 1px rgba(0, 0, 0, 0.15);\n",
              "      filter: drop-shadow(0px 1px 2px rgba(0, 0, 0, 0.3));\n",
              "      fill: #FFFFFF;\n",
              "    }\n",
              "  </style>\n",
              "\n",
              "      <script>\n",
              "        const buttonEl =\n",
              "          document.querySelector('#df-684b74c1-53e4-4e93-be08-15a71bdddd3f button.colab-df-convert');\n",
              "        buttonEl.style.display =\n",
              "          google.colab.kernel.accessAllowed ? 'block' : 'none';\n",
              "\n",
              "        async function convertToInteractive(key) {\n",
              "          const element = document.querySelector('#df-684b74c1-53e4-4e93-be08-15a71bdddd3f');\n",
              "          const dataTable =\n",
              "            await google.colab.kernel.invokeFunction('convertToInteractive',\n",
              "                                                     [key], {});\n",
              "          if (!dataTable) return;\n",
              "\n",
              "          const docLinkHtml = 'Like what you see? Visit the ' +\n",
              "            '<a target=\"_blank\" href=https://colab.research.google.com/notebooks/data_table.ipynb>data table notebook</a>'\n",
              "            + ' to learn more about interactive tables.';\n",
              "          element.innerHTML = '';\n",
              "          dataTable['output_type'] = 'display_data';\n",
              "          await google.colab.output.renderOutput(dataTable, element);\n",
              "          const docLink = document.createElement('div');\n",
              "          docLink.innerHTML = docLinkHtml;\n",
              "          element.appendChild(docLink);\n",
              "        }\n",
              "      </script>\n",
              "    </div>\n",
              "  </div>\n",
              "  "
            ]
          },
          "metadata": {},
          "execution_count": 49
        }
      ]
    },
    {
      "cell_type": "code",
      "source": [
        "import seaborn as sb\n",
        "import matplotlib.pyplot as plt\n",
        "\n",
        "plt.figure(figsize = (6,6))\n",
        "sb.scatterplot(data = principal_df , x = 'PC1',y = 'PC2' , hue = 'target' , s = 60 , palette= 'icefire')\n"
      ],
      "metadata": {
        "colab": {
          "base_uri": "https://localhost:8080/",
          "height": 430
        },
        "id": "RU5iuOE_aEnu",
        "outputId": "1ca0a881-7cbf-4c45-85db-e82235fa26fc"
      },
      "execution_count": null,
      "outputs": [
        {
          "output_type": "execute_result",
          "data": {
            "text/plain": [
              "<AxesSubplot:xlabel='PC1', ylabel='PC2'>"
            ]
          },
          "metadata": {},
          "execution_count": 50
        },
        {
          "output_type": "display_data",
          "data": {
            "text/plain": [
              "<Figure size 432x432 with 1 Axes>"
            ],
            "image/png": "[encoded data removed]"
          },
          "metadata": {
            "needs_background": "light"
          }
        }
      ]
    },
    {
      "cell_type": "markdown",
      "source": [
        "## PCA a través de **sklearn**: gráfica scree"
      ],
      "metadata": {
        "id": "i3H277bhz7ON"
      }
    },
    {
      "cell_type": "code",
      "source": [
        "import matplotlib.pyplot as plt\n",
        "\n",
        "import pandas as pd\n",
        "from sklearn.preprocessing import StandardScaler\n",
        "from sklearn import datasets\n",
        "from sklearn.decomposition import PCA"
      ],
      "metadata": {
        "id": "cQsq_-K-0LRI"
      },
      "execution_count": null,
      "outputs": []
    },
    {
      "cell_type": "code",
      "source": [
        "import pandas as pd\n",
        "\n",
        "df = pd.read_csv(\n",
        "    filepath_or_buffer='https://archive.ics.uci.edu/ml/machine-learning-databases/iris/iris.data',\n",
        "    header=None,\n",
        "    sep=',')\n",
        "\n",
        "df.columns=['sepal_len', 'sepal_wid', 'petal_len', 'petal_wid', 'class']\n",
        "df.dropna(how=\"all\", inplace=True)\n",
        "df.to_csv(\"iris_download.csv\", index = False)\n",
        "df.head()"
      ],
      "metadata": {
        "colab": {
          "base_uri": "https://localhost:8080/",
          "height": 228
        },
        "id": "QuBiVB6F13tE",
        "outputId": "a8bf7728-6789-4966-e397-c94886b7b4a8"
      },
      "execution_count": null,
      "outputs": [
        {
          "output_type": "execute_result",
          "data": {
            "text/plain": [
              "   sepal_len  sepal_wid  petal_len  petal_wid        class\n",
              "0        5.1        3.5        1.4        0.2  Iris-setosa\n",
              "1        4.9        3.0        1.4        0.2  Iris-setosa\n",
              "2        4.7        3.2        1.3        0.2  Iris-setosa\n",
              "3        4.6        3.1        1.5        0.2  Iris-setosa\n",
              "4        5.0        3.6        1.4        0.2  Iris-setosa"
            ],
            "text/html": [
              "\n",
              "  <div id=\"df-fb91dbd0-82b7-4eec-9ed4-c6587bfa68df\">\n",
              "    <div class=\"colab-df-container\">\n",
              "      <div>\n",
              "<style scoped>\n",
              "    .dataframe tbody tr th:only-of-type {\n",
              "        vertical-align: middle;\n",
              "    }\n",
              "\n",
              "    .dataframe tbody tr th {\n",
              "        vertical-align: top;\n",
              "    }\n",
              "\n",
              "    .dataframe thead th {\n",
              "        text-align: right;\n",
              "    }\n",
              "</style>\n",
              "<table border=\"1\" class=\"dataframe\">\n",
              "  <thead>\n",
              "    <tr style=\"text-align: right;\">\n",
              "      <th></th>\n",
              "      <th>sepal_len</th>\n",
              "      <th>sepal_wid</th>\n",
              "      <th>petal_len</th>\n",
              "      <th>petal_wid</th>\n",
              "      <th>class</th>\n",
              "    </tr>\n",
              "  </thead>\n",
              "  <tbody>\n",
              "    <tr>\n",
              "      <th>0</th>\n",
              "      <td>5.1</td>\n",
              "      <td>3.5</td>\n",
              "      <td>1.4</td>\n",
              "      <td>0.2</td>\n",
              "      <td>Iris-setosa</td>\n",
              "    </tr>\n",
              "    <tr>\n",
              "      <th>1</th>\n",
              "      <td>4.9</td>\n",
              "      <td>3.0</td>\n",
              "      <td>1.4</td>\n",
              "      <td>0.2</td>\n",
              "      <td>Iris-setosa</td>\n",
              "    </tr>\n",
              "    <tr>\n",
              "      <th>2</th>\n",
              "      <td>4.7</td>\n",
              "      <td>3.2</td>\n",
              "      <td>1.3</td>\n",
              "      <td>0.2</td>\n",
              "      <td>Iris-setosa</td>\n",
              "    </tr>\n",
              "    <tr>\n",
              "      <th>3</th>\n",
              "      <td>4.6</td>\n",
              "      <td>3.1</td>\n",
              "      <td>1.5</td>\n",
              "      <td>0.2</td>\n",
              "      <td>Iris-setosa</td>\n",
              "    </tr>\n",
              "    <tr>\n",
              "      <th>4</th>\n",
              "      <td>5.0</td>\n",
              "      <td>3.6</td>\n",
              "      <td>1.4</td>\n",
              "      <td>0.2</td>\n",
              "      <td>Iris-setosa</td>\n",
              "    </tr>\n",
              "  </tbody>\n",
              "</table>\n",
              "</div>\n",
              "      <button class=\"colab-df-convert\" onclick=\"convertToInteractive('df-fb91dbd0-82b7-4eec-9ed4-c6587bfa68df')\"\n",
              "              title=\"Convert this dataframe to an interactive table.\"\n",
              "              style=\"display:none;\">\n",
              "        \n",
              "  <svg xmlns=\"http://www.w3.org/2000/svg\" height=\"24px\"viewBox=\"0 0 24 24\"\n",
              "       width=\"24px\">\n",
              "    <path d=\"M0 0h24v24H0V0z\" fill=\"none\"/>\n",
              "    <path d=\"M18.56 5.44l.94 2.06.94-2.06 2.06-.94-2.06-.94-.94-2.06-.94 2.06-2.06.94zm-11 1L8.5 8.5l.94-2.06 2.06-.94-2.06-.94L8.5 2.5l-.94 2.06-2.06.94zm10 10l.94 2.06.94-2.06 2.06-.94-2.06-.94-.94-2.06-.94 2.06-2.06.94z\"/><path d=\"M17.41 7.96l-1.37-1.37c-.4-.4-.92-.59-1.43-.59-.52 0-1.04.2-1.43.59L10.3 9.45l-7.72 7.72c-.78.78-.78 2.05 0 2.83L4 21.41c.39.39.9.59 1.41.59.51 0 1.02-.2 1.41-.59l7.78-7.78 2.81-2.81c.8-.78.8-2.07 0-2.86zM5.41 20L4 18.59l7.72-7.72 1.47 1.35L5.41 20z\"/>\n",
              "  </svg>\n",
              "      </button>\n",
              "      \n",
              "  <style>\n",
              "    .colab-df-container {\n",
              "      display:flex;\n",
              "      flex-wrap:wrap;\n",
              "      gap: 12px;\n",
              "    }\n",
              "\n",
              "    .colab-df-convert {\n",
              "      background-color: #E8F0FE;\n",
              "      border: none;\n",
              "      border-radius: 50%;\n",
              "      cursor: pointer;\n",
              "      display: none;\n",
              "      fill: #1967D2;\n",
              "      height: 32px;\n",
              "      padding: 0 0 0 0;\n",
              "      width: 32px;\n",
              "    }\n",
              "\n",
              "    .colab-df-convert:hover {\n",
              "      background-color: #E2EBFA;\n",
              "      box-shadow: 0px 1px 2px rgba(60, 64, 67, 0.3), 0px 1px 3px 1px rgba(60, 64, 67, 0.15);\n",
              "      fill: #174EA6;\n",
              "    }\n",
              "\n",
              "    [theme=dark] .colab-df-convert {\n",
              "      background-color: #3B4455;\n",
              "      fill: #D2E3FC;\n",
              "    }\n",
              "\n",
              "    [theme=dark] .colab-df-convert:hover {\n",
              "      background-color: #434B5C;\n",
              "      box-shadow: 0px 1px 3px 1px rgba(0, 0, 0, 0.15);\n",
              "      filter: drop-shadow(0px 1px 2px rgba(0, 0, 0, 0.3));\n",
              "      fill: #FFFFFF;\n",
              "    }\n",
              "  </style>\n",
              "\n",
              "      <script>\n",
              "        const buttonEl =\n",
              "          document.querySelector('#df-fb91dbd0-82b7-4eec-9ed4-c6587bfa68df button.colab-df-convert');\n",
              "        buttonEl.style.display =\n",
              "          google.colab.kernel.accessAllowed ? 'block' : 'none';\n",
              "\n",
              "        async function convertToInteractive(key) {\n",
              "          const element = document.querySelector('#df-fb91dbd0-82b7-4eec-9ed4-c6587bfa68df');\n",
              "          const dataTable =\n",
              "            await google.colab.kernel.invokeFunction('convertToInteractive',\n",
              "                                                     [key], {});\n",
              "          if (!dataTable) return;\n",
              "\n",
              "          const docLinkHtml = 'Like what you see? Visit the ' +\n",
              "            '<a target=\"_blank\" href=https://colab.research.google.com/notebooks/data_table.ipynb>data table notebook</a>'\n",
              "            + ' to learn more about interactive tables.';\n",
              "          element.innerHTML = '';\n",
              "          dataTable['output_type'] = 'display_data';\n",
              "          await google.colab.output.renderOutput(dataTable, element);\n",
              "          const docLink = document.createElement('div');\n",
              "          docLink.innerHTML = docLinkHtml;\n",
              "          element.appendChild(docLink);\n",
              "        }\n",
              "      </script>\n",
              "    </div>\n",
              "  </div>\n",
              "  "
            ]
          },
          "metadata": {},
          "execution_count": 61
        }
      ]
    },
    {
      "cell_type": "code",
      "source": [
        "X = df.loc[:, 'sepal_len':'petal_wid'].values\n",
        "y = df.loc[:, 'class'].values\n",
        "\n",
        "pca = PCA()\n",
        "X_r = pca.fit(X).transform(X)"
      ],
      "metadata": {
        "id": "P7Tm5zIQ0q3S"
      },
      "execution_count": null,
      "outputs": []
    },
    {
      "cell_type": "code",
      "source": [
        "target_names = df.iloc[:,4].unique()\n",
        "target_names"
      ],
      "metadata": {
        "colab": {
          "base_uri": "https://localhost:8080/"
        },
        "id": "Pn51pM1y2FAb",
        "outputId": "deec23bb-3385-4c02-e1f7-2903123903f7"
      },
      "execution_count": null,
      "outputs": [
        {
          "output_type": "execute_result",
          "data": {
            "text/plain": [
              "array(['Iris-setosa', 'Iris-versicolor', 'Iris-virginica'], dtype=object)"
            ]
          },
          "metadata": {},
          "execution_count": 64
        }
      ]
    },
    {
      "cell_type": "code",
      "source": [
        "def pca_scatter(pca1, pca2):\n",
        "    plt.close\n",
        "    plt.figure()\n",
        "    colors = ['red', 'cyan', 'blue']\n",
        "    lw = 2\n",
        "\n",
        "\n",
        "    for color, target_name in zip(colors, target_names):\n",
        "        plt.scatter(X_r[y == target_name, pca1], X_r[y == target_name, pca2], color=color, alpha=.6, lw=lw,\n",
        "                    label=target_name)\n",
        "    plt.legend(loc='best', shadow=False, scatterpoints=1)\n",
        "    plt.title('PCA of IRIS Dataset: Components {} and {}'.format(pca1+1, pca2+1))\n",
        "    plt.xlabel('Component {}'.format(pca1+1))\n",
        "    plt.ylabel('Component {}'.format(pca2+1))\n",
        "    plt.show()\n",
        "\n",
        "pca_scatter(0, 1)"
      ],
      "metadata": {
        "colab": {
          "base_uri": "https://localhost:8080/",
          "height": 316
        },
        "id": "xAp2P9PR2gFA",
        "outputId": "f7da925f-14fd-452b-88b7-984140e56add"
      },
      "execution_count": null,
      "outputs": [
        {
          "output_type": "display_data",
          "data": {
            "text/plain": [
              "<Figure size 432x288 with 1 Axes>"
            ],
            "image/png": "[encoded data removed]"
          },
          "metadata": {
            "needs_background": "light"
          }
        }
      ]
    },
    {
      "cell_type": "code",
      "source": [
        "X_r = pca.fit(X).transform(X)\n",
        "print('\\nEigenvalores \\n%s' %pca.explained_variance_)\n",
        "print('Eigenvectores \\n%s' %pca.components_)"
      ],
      "metadata": {
        "colab": {
          "base_uri": "https://localhost:8080/"
        },
        "id": "xc6_N2eF2phR",
        "outputId": "502ee9d9-4733-4710-f09d-1d8667076c1f"
      },
      "execution_count": null,
      "outputs": [
        {
          "output_type": "stream",
          "name": "stdout",
          "text": [
            "\n",
            "Eigenvalores \n",
            "[4.22484077 0.24224357 0.07852391 0.02368303]\n",
            "Eigenvectores \n",
            "[[ 0.36158968 -0.08226889  0.85657211  0.35884393]\n",
            " [ 0.65653988  0.72971237 -0.1757674  -0.07470647]\n",
            " [-0.58099728  0.59641809  0.07252408  0.54906091]\n",
            " [ 0.31725455 -0.32409435 -0.47971899  0.75112056]]\n"
          ]
        }
      ]
    },
    {
      "cell_type": "code",
      "source": [
        "def scree_plot():\n",
        "    from matplotlib.pyplot import figure, show\n",
        "    from matplotlib.ticker import MaxNLocator\n",
        "\n",
        "    ax = figure().gca()\n",
        "    ax.plot(pca.explained_variance_)\n",
        "    ax.xaxis.set_major_locator(MaxNLocator(integer=True))\n",
        "    plt.xlabel('Principal Component')\n",
        "    plt.ylabel('Eigenvalue')\n",
        "    plt.axhline(y=1, linewidth=1, color='r', alpha=0.5)\n",
        "    plt.title('Scree Plot of PCA: Component Eigenvalues')\n",
        "    show()\n",
        "\n",
        "scree_plot()"
      ],
      "metadata": {
        "colab": {
          "base_uri": "https://localhost:8080/",
          "height": 316
        },
        "id": "r2B7wQ7h08RR",
        "outputId": "ea00737c-d47a-47f0-b592-b9a6e526f22b"
      },
      "execution_count": null,
      "outputs": [
        {
          "output_type": "display_data",
          "data": {
            "text/plain": [
              "<Figure size 432x288 with 1 Axes>"
            ],
            "image/png": "[encoded data removed]"
          },
          "metadata": {
            "needs_background": "light"
          }
        }
      ]
    },
    {
      "cell_type": "code",
      "source": [
        "def var_explicada():\n",
        "    import numpy as np\n",
        "    from matplotlib.pyplot import figure, show\n",
        "    from matplotlib.ticker import MaxNLocator\n",
        "\n",
        "    ax = figure().gca()\n",
        "    ax.plot(np.cumsum(pca.explained_variance_ratio_))\n",
        "    ax.xaxis.set_major_locator(MaxNLocator(integer=True))\n",
        "    plt.xlabel('Nuúmero de componentes')\n",
        "    plt.ylabel('Varianza explicada acumulativa')\n",
        "    plt.axvline(x=1, linewidth=1, color='r', alpha=0.5)\n",
        "    plt.title('Varianza explicada del PCA por componente')\n",
        "    show()\n",
        "\n",
        "var_explicada()"
      ],
      "metadata": {
        "colab": {
          "base_uri": "https://localhost:8080/",
          "height": 316
        },
        "id": "qabQ_djZ24vM",
        "outputId": "e9457632-5fd1-4c90-b35a-fb00603d7bae"
      },
      "execution_count": null,
      "outputs": [
        {
          "output_type": "display_data",
          "data": {
            "text/plain": [
              "<Figure size 432x288 with 1 Axes>"
            ],
            "image/png": "[encoded data removed]"
          },
          "metadata": {
            "needs_background": "light"
          }
        }
      ]
    },
    {
      "cell_type": "markdown",
      "source": [
        "## Ejercicios\n",
        "\n",
        "1. Considera los siguientes puntos en $\\mathbb{R}^{2}$:\n",
        "\t$$(4,11), \\ (8,4), \\ (13,5), \\ (7,14).$$\n",
        "Calcula las dos componentes principales y muestra que no están correlacionadas."
      ],
      "metadata": {
        "id": "_MsnU-LFjIUy"
      }
    },
    {
      "cell_type": "code",
      "source": [
        "import numpy as np"
      ],
      "metadata": {
        "id": "DlZU6eitk-hj"
      },
      "execution_count": null,
      "outputs": []
    },
    {
      "cell_type": "code",
      "source": [
        "X1 = [4, 8, 13, 7]\n",
        "X2 = [11, 4, 5, 14]"
      ],
      "metadata": {
        "id": "y-xLsK17jH2S"
      },
      "execution_count": null,
      "outputs": []
    },
    {
      "cell_type": "code",
      "source": [
        "barX1 = sum(X1) / len(X1)\n",
        "barX2 = sum(X2) / len(X2)\n",
        "\n",
        "covX1X2 = sum((a - barX1) * (b - barX2) for (a,b) in zip(X1,X2)) / (len(X1)-1)"
      ],
      "metadata": {
        "id": "52q-vyoWj4QE"
      },
      "execution_count": null,
      "outputs": []
    },
    {
      "cell_type": "code",
      "source": [
        "varX1 = np.var(X1, ddof = 1)\n",
        "varX2 = np.var(X2, ddof = 1)\n",
        "\n",
        "print(varX1)\n",
        "print(varX2)"
      ],
      "metadata": {
        "colab": {
          "base_uri": "https://localhost:8080/"
        },
        "id": "_B2iGe7UkbeA",
        "outputId": "09d55c7b-9d72-490a-a2ad-959c3d437117"
      },
      "execution_count": null,
      "outputs": [
        {
          "output_type": "stream",
          "name": "stdout",
          "text": [
            "14.0\n",
            "23.0\n"
          ]
        }
      ]
    },
    {
      "cell_type": "code",
      "source": [
        "# La matriz de covarianza\n",
        "\n",
        "S = np.cov(np.array(X1), np.array(X2))\n",
        "\n",
        "print(S)"
      ],
      "metadata": {
        "colab": {
          "base_uri": "https://localhost:8080/"
        },
        "id": "Za-lvid1lHd7",
        "outputId": "c96eb284-4675-4630-e2bb-96aedd4fe6f5"
      },
      "execution_count": null,
      "outputs": [
        {
          "output_type": "stream",
          "name": "stdout",
          "text": [
            "[[ 14. -11.]\n",
            " [-11.  23.]]\n"
          ]
        }
      ]
    },
    {
      "cell_type": "code",
      "source": [
        "eigen_val, eigen_vec = np.linalg.eigh(S)\n",
        "\n",
        "print(eigen_val)\n",
        "print(eigen_vec)"
      ],
      "metadata": {
        "colab": {
          "base_uri": "https://localhost:8080/"
        },
        "id": "Sy0a1xemlmPS",
        "outputId": "705fff3d-0b05-4d07-f796-5539252e97b0"
      },
      "execution_count": null,
      "outputs": [
        {
          "output_type": "stream",
          "name": "stdout",
          "text": [
            "[ 6.61513568 30.38486432]\n",
            "[[-0.83025082 -0.55738997]\n",
            " [-0.55738997  0.83025082]]\n"
          ]
        }
      ]
    },
    {
      "cell_type": "markdown",
      "source": [
        "Por lo tanto, la primera componente principal es:\n",
        "$$\\eta_{1}=-0.5573X_{11}+0.8303X_{12}.$$"
      ],
      "metadata": {
        "id": "Gk9vrkM3mlGI"
      }
    },
    {
      "cell_type": "code",
      "source": [],
      "metadata": {
        "id": "zYdET2QTmF2I"
      },
      "execution_count": null,
      "outputs": []
    },
    {
      "cell_type": "code",
      "source": [
        "n = int(input(\"Ingresa:\"))\n",
        "suma = 0\n",
        "for i in range(1, n):\n",
        "    if(n % i == 0):\n",
        "        suma = suma + i\n",
        "if (suma == n):\n",
        "    print(\"Perfecto!\")\n",
        "else:\n",
        "    print(\"No perfecto!\")"
      ],
      "metadata": {
        "colab": {
          "base_uri": "https://localhost:8080/"
        },
        "id": "SkwFUFs6dHvc",
        "outputId": "701748ff-a1ee-43de-8c78-e5f83ce1239f"
      },
      "execution_count": null,
      "outputs": [
        {
          "output_type": "stream",
          "name": "stdout",
          "text": [
            "Ingresa:6\n",
            "Perfecto!\n"
          ]
        }
      ]
    },
    {
      "cell_type": "markdown",
      "source": [],
      "metadata": {
        "id": "w2454ESCjFTq"
      }
    },
    {
      "cell_type": "code",
      "source": [
        "n = int(input(\"Ingresa:\"))\n",
        "\n",
        "L = []\n",
        "for i in range(1, n):\n",
        "    if(n % i == 0):\n",
        "        L.append(i)\n",
        "\n",
        "print(L)\n",
        "print(sum(L))\n",
        "\n",
        "\n",
        "\n"
      ],
      "metadata": {
        "id": "4YAdYkc0dd34",
        "colab": {
          "base_uri": "https://localhost:8080/"
        },
        "outputId": "b20c8925-6934-46e4-a27a-5dd7f8c0a090"
      },
      "execution_count": null,
      "outputs": [
        {
          "output_type": "stream",
          "name": "stdout",
          "text": [
            "Ingresa:28\n",
            "[1, 2, 4, 7, 14]\n",
            "28\n"
          ]
        }
      ]
    },
    {
      "cell_type": "code",
      "source": [],
      "metadata": {
        "id": "HsBkqwXWjnNC"
      },
      "execution_count": null,
      "outputs": []
    }
  ]
}